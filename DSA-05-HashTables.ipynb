{
 "cells": [
  {
   "cell_type": "markdown",
   "id": "98ea0ecd",
   "metadata": {},
   "source": [
    "# Notes for Hash Tables\n",
    "* Hash Tables are like numbered Lists or Dictionaries;\n",
    "    - Dictionaries have key-value pairs, e.g. \"nails\" : 1000 in itemname/quantity pair\n",
    "    - Hash Tables add an Address or index;\n",
    "        - When the input is \"nails\"\n",
    "        - The hashing function returns an address (\"2\") and the value (1000)\n",
    "   - Python Dictionaries are actually built on Hash Tables!\n",
    "        \n",
    "* Hashing functions have 2 functions are \n",
    "    - **One-way only.** Hash(\"nails\") gets 2, but there is no way to retrieve \"nails\" from (2)\n",
    "    - **Deterministic:** Every time you Hash \"nails\", the input will be \"2\" 100% of the time.\n",
    "    "
   ]
  },
  {
   "cell_type": "markdown",
   "id": "3d49632f",
   "metadata": {},
   "source": [
    "### Hash Table by Analogy\n",
    "\n",
    "* Consider a Hash Table like a drawer in a hardware store;\n",
    "    - each address (1, 2, 3...) is like a separate drawer\n",
    "    - hashing is deciding in which address/to which drawer each item or key-value pair goes in;\n",
    "    - each time you need to retrieve the quantity, you simply hash the itemname to obtain the drawer/address you require\n",
    "    \n",
    "### Hash Table Collisions\n",
    "* You can store multiple items in the same drawer/store multiple key-value pairs in the same address\n",
    "    - you *can* put multiple items in the same drawer, without overwriting\n",
    "    - if there are overlaps or 'collisions', you simply need to loop through the pairs to find the right one / rummage around in the drawer\n",
    "    - This technique is called **SEPARATE CHAINING**;\n",
    "        - if you have multiple key-value pairs, they are stored within a list or LinkedList\n",
    "        \n",
    "   - an alternative option is **LINEAR PROBING** that limits each address to one key:value pair;\n",
    "   - if the hashed address is full, you simply try the next address until you find an empty one; this is an example of **OPEN ADDRESSING**"
   ]
  },
  {
   "cell_type": "markdown",
   "id": "bc76b9ea",
   "metadata": {},
   "source": [
    "## Hash Table Big O\n",
    "\n",
    "Big O of operations for Hash Table\n",
    "\n",
    "\n",
    "1. **HASH** an item  O(1)\n",
    "   - for any given key with n letters, hashing takes the same number of operations (once for each letter);\n",
    "   - therefore, hashing has O(1) -- constant time\n",
    "\n",
    "\n",
    "2. **SET**  an Item O(1)\n",
    "    - This has the same O as appending to a Linked List; O(1) \n",
    "    \n",
    "\n",
    "3. **GET**  a Key O(1)\n",
    "    - This is an abstraction; \n",
    "    - In the worst case scenario, a HT of n objects will have all n objects be hashed to the same address. Getting the hash is O(1) but to iterate through n objects will take O(n)\n",
    "    - However, the assumption with a hash table is that n objects will be evenly distributed across the addresses and the address space is large enough that collisions are avoided, meaning that you will not need to iterate through n objects; this approximates to O(1)\n",
    "    \n",
    "3b. Search for a **Value** (?)\n",
    "    - If you simply wish to lookup a value with no Key, you need to search every element of a HT\n",
    "    - Therefore, key lookup is O(1) (just the speed of Hash function), but value lookup is dependent on the current size of the HT"
   ]
  },
  {
   "cell_type": "markdown",
   "id": "74f6bf67",
   "metadata": {},
   "source": [
    "### 4.0 HashTable Constructor & Node class\n",
    "- the optimal number of addresses is usually a prime number, e.g. 7 \n",
    "- this increases the randomness of how key-value pairs are distributed through the hash table, thereby reducing the number of potential collisions\n",
    "- so, the optimal address is range(7) e.g. (0, 1, 2, 3, 4, 5, 6)\n",
    "    - e.g. number addresses from 0 to 7, but remove 7 to still have a prime number of addresses"
   ]
  },
  {
   "cell_type": "code",
   "execution_count": 5,
   "id": "b70c0b3d",
   "metadata": {},
   "outputs": [],
   "source": [
    "# Creating HashTable Class\n",
    "class HashTable:                       # initializing the node class\n",
    "    def __init__(self, size = 7):      # sets default size=7\n",
    "        self.data_map = [None] * size  # creates a data_map of 7 [Nones]\n",
    "        \n",
    "    def hash(self, key):\n",
    "        my_hash = 0\n",
    "        for letter in key:         \n",
    "            my_hash = (my_hash         # difficult to backcalculate \n",
    "                      + ord(letter)    # takes ASCII value of each leter\n",
    "                      * 23             # 23 is prime number\n",
    "                      ) % len(self.data_map)\n",
    "        # here, len(self.data_map) == 7\n",
    "        # so modulo 7 will always return a number from 0 to 6\n",
    "        # which gives us a clever way to find a hash address\n",
    "        return my_hash\n",
    "    \n",
    "    def print_table(self):\n",
    "        for i, val in enumerate(self.data_map):\n",
    "            print(i, \" : \", val)"
   ]
  },
  {
   "cell_type": "code",
   "execution_count": 6,
   "id": "5c22e30c",
   "metadata": {
    "scrolled": true
   },
   "outputs": [
    {
     "name": "stdout",
     "output_type": "stream",
     "text": [
      "0  :  None\n",
      "1  :  None\n",
      "2  :  None\n",
      "3  :  None\n",
      "4  :  None\n",
      "5  :  None\n",
      "6  :  None\n"
     ]
    }
   ],
   "source": [
    "my_hash_table = HashTable()\n",
    "my_hash_table.print_table()"
   ]
  },
  {
   "cell_type": "markdown",
   "id": "762a1766",
   "metadata": {},
   "source": [
    "### 4.1 HashTable `set_item` and `get_item`\n",
    "- set_item takes a key-value pair and\n",
    "    - hashes the key to find the address\n",
    "    - stores the key-value pair at the address\n",
    "- get_item takes a key-value pair and\n",
    "    - hashes the key to find the address\n",
    "    - if it exists, retrieves the key_value pair here\n",
    "    - else, returns None\n"
   ]
  },
  {
   "cell_type": "code",
   "execution_count": 24,
   "id": "57ff7b20",
   "metadata": {
    "scrolled": true
   },
   "outputs": [],
   "source": [
    "# Creating HashTable set_item\n",
    "class HashTable:                       # initializing the node class\n",
    "    def __init__(self, size = 7):      # sets default size=7\n",
    "        self.data_map = [None] * size  # creates a data_map of 7 [Nones]\n",
    "        \n",
    "    def hash(self, key):\n",
    "        my_hash = 0\n",
    "        for letter in key:         \n",
    "            my_hash = (my_hash         # difficult to backcalculate \n",
    "                      + ord(letter)    # takes ASCII value of each leter\n",
    "                      * 23             # 23 is prime number\n",
    "                      ) % len(self.data_map)\n",
    "        # here, len(self.data_map) == 7\n",
    "        # so modulo 7 will always return a number from 0 to 6\n",
    "        # which gives us a clever way to find a hash address\n",
    "        return my_hash\n",
    "    \n",
    "    def print_table(self):\n",
    "        for i, val in enumerate(self.data_map):\n",
    "            print(i, \" : \", val)\n",
    "    \n",
    "    def set_item(self, key, value):\n",
    "        index = self.hash(key)       # hashing to create the address\n",
    "        if self.data_map[index] == None:\n",
    "            self.data_map[index] = []      # creating empty list at address\n",
    "        self.data_map[index].append([key, value])"
   ]
  },
  {
   "cell_type": "code",
   "execution_count": 25,
   "id": "4e92f770",
   "metadata": {
    "scrolled": true
   },
   "outputs": [
    {
     "name": "stdout",
     "output_type": "stream",
     "text": [
      "0  :  None\n",
      "1  :  None\n",
      "2  :  None\n",
      "3  :  None\n",
      "4  :  [['bolts', 1400], ['washers', 50]]\n",
      "5  :  None\n",
      "6  :  [['lumber', 70]]\n"
     ]
    }
   ],
   "source": [
    "my_hash_table = HashTable()\n",
    "\n",
    "my_hash_table.set_item('bolts', 1400)\n",
    "my_hash_table.set_item('washers', 50)\n",
    "my_hash_table.set_item('lumber', 70)\n",
    "\n",
    "\n",
    "my_hash_table.print_table()"
   ]
  },
  {
   "cell_type": "code",
   "execution_count": 34,
   "id": "9c52a71a",
   "metadata": {
    "scrolled": true
   },
   "outputs": [],
   "source": [
    "# Creating HashTable get_item\n",
    "class HashTable:                       # initializing the node class\n",
    "    def __init__(self, size = 7):      # sets default size=7\n",
    "        self.data_map = [None] * size  # creates a data_map of 7 [Nones]\n",
    "        \n",
    "    def hash(self, key):\n",
    "        my_hash = 0\n",
    "        for letter in key:         \n",
    "            my_hash = (my_hash         # difficult to backcalculate \n",
    "                      + ord(letter)    # takes ASCII value of each leter\n",
    "                      * 23             # 23 is prime number\n",
    "                      ) % len(self.data_map)\n",
    "        # here, len(self.data_map) == 7\n",
    "        # so modulo 7 will always return a number from 0 to 6\n",
    "        # which gives us a clever way to find a hash address\n",
    "        return my_hash\n",
    "    \n",
    "    def print_table(self):\n",
    "        for i, val in enumerate(self.data_map):\n",
    "            print(i, \" : \", val)\n",
    "    \n",
    "    def set_item(self, key, value):\n",
    "        index = self.hash(key)       # hashing to create the address\n",
    "        if self.data_map[index] == None:\n",
    "            self.data_map[index] = []      # creating empty list at address\n",
    "        self.data_map[index].append([key, value])\n",
    "        \n",
    "    def get_item(self, key):\n",
    "        index = self.hash(key)       # hashing to create the address\n",
    "        if self.data_map[index] is not None:\n",
    "            for list in self.data_map[index]:\n",
    "                if list[0] == key:\n",
    "                    return list [1]  # returns the value of pair\n",
    "        return None"
   ]
  },
  {
   "cell_type": "code",
   "execution_count": 36,
   "id": "61685366",
   "metadata": {
    "scrolled": false
   },
   "outputs": [
    {
     "name": "stdout",
     "output_type": "stream",
     "text": [
      "0  :  None\n",
      "1  :  None\n",
      "2  :  None\n",
      "3  :  None\n",
      "4  :  [['bolts', 1400], ['washers', 50]]\n",
      "5  :  None\n",
      "6  :  [['lumber', 70]]\n"
     ]
    }
   ],
   "source": [
    "my_hash_table = HashTable()\n",
    "\n",
    "my_hash_table.set_item('bolts', 1400)\n",
    "my_hash_table.set_item('washers', 50)\n",
    "my_hash_table.set_item('lumber', 70)\n",
    "\n",
    "\n",
    "my_hash_table.print_table()"
   ]
  },
  {
   "cell_type": "code",
   "execution_count": 37,
   "id": "ccc4ed19",
   "metadata": {},
   "outputs": [
    {
     "name": "stdout",
     "output_type": "stream",
     "text": [
      "70\n",
      "1400\n",
      "None\n"
     ]
    }
   ],
   "source": [
    "print(my_hash_table.get_item('lumber'))\n",
    "print(my_hash_table.get_item('bolts'))\n",
    "print(my_hash_table.get_item('volts'))"
   ]
  },
  {
   "cell_type": "code",
   "execution_count": null,
   "id": "b6681203",
   "metadata": {},
   "outputs": [],
   "source": []
  },
  {
   "cell_type": "markdown",
   "id": "b3dcc0e6",
   "metadata": {},
   "source": [
    "### 4.2 HashTable `keys`\n",
    "- `keys` method goes through the HT, and extracts all the keys from each index"
   ]
  },
  {
   "cell_type": "code",
   "execution_count": 29,
   "id": "ba4b2020",
   "metadata": {},
   "outputs": [],
   "source": [
    "# Creating HashTable get_item\n",
    "class HashTable:                       # initializing the node class\n",
    "    def __init__(self, size = 7):      # sets default size=7\n",
    "        self.data_map = [None] * size  # creates a data_map of 7 [Nones]\n",
    "        \n",
    "    def hash(self, key):\n",
    "        my_hash = 0\n",
    "        for letter in key:         \n",
    "            my_hash = (my_hash         # difficult to backcalculate \n",
    "                      + ord(letter)    # takes ASCII value of each leter\n",
    "                      * 23             # 23 is prime number\n",
    "                      ) % len(self.data_map)\n",
    "        # here, len(self.data_map) == 7\n",
    "        # so modulo 7 will always return a number from 0 to 6\n",
    "        # which gives us a clever way to find a hash address\n",
    "        return my_hash\n",
    "    \n",
    "    def print_table(self):\n",
    "        for i, val in enumerate(self.data_map):\n",
    "            print(i, \" : \", val)\n",
    "    \n",
    "    def set_item(self, key, value):\n",
    "        index = self.hash(key)       # hashing to create the address\n",
    "        if self.data_map[index] == None:\n",
    "            self.data_map[index] = []      # creating empty list at address\n",
    "        self.data_map[index].append([key, value])\n",
    "        \n",
    "    def get_item(self, key):\n",
    "        index = self.hash(key)       # hashing to create the address\n",
    "        if self.data_map[index] is not None:\n",
    "            for list in self.data_map[index]:\n",
    "                if list[0] == key:\n",
    "                    return list [1]  # returns the value of pair\n",
    "        return None\n",
    "    \n",
    "    def keys(self):\n",
    "        all_keys = []\n",
    "        for container in self.data_map:\n",
    "            if container is not None:\n",
    "                for key_value_pair in container:\n",
    "                    all_keys.append(key_value_pair[0])\n",
    "        return all_keys"
   ]
  },
  {
   "cell_type": "code",
   "execution_count": 30,
   "id": "34856a7f",
   "metadata": {},
   "outputs": [
    {
     "name": "stdout",
     "output_type": "stream",
     "text": [
      "0  :  None\n",
      "1  :  None\n",
      "2  :  None\n",
      "3  :  None\n",
      "4  :  [['bolts', 1400], ['washers', 50]]\n",
      "5  :  None\n",
      "6  :  [['lumber', 70]]\n"
     ]
    }
   ],
   "source": [
    "my_hash_table = HashTable()\n",
    "\n",
    "my_hash_table.set_item('bolts', 1400)\n",
    "my_hash_table.set_item('washers', 50)\n",
    "my_hash_table.set_item('lumber', 70)\n",
    "\n",
    "\n",
    "my_hash_table.print_table()"
   ]
  },
  {
   "cell_type": "code",
   "execution_count": 31,
   "id": "62592d41",
   "metadata": {
    "scrolled": true
   },
   "outputs": [
    {
     "data": {
      "text/plain": [
       "['bolts', 'washers', 'lumber']"
      ]
     },
     "execution_count": 31,
     "metadata": {},
     "output_type": "execute_result"
    }
   ],
   "source": [
    "my_hash_table.keys()"
   ]
  },
  {
   "attachments": {},
   "cell_type": "markdown",
   "id": "2d85e2bc",
   "metadata": {},
   "source": [
    "### 4.3 HashTable Sample Interview question\n",
    "\n",
    "There are two lists:\n",
    "    - List_A = [1, 3, 5]\n",
    "    - List_B = [2, 4, 5]\n",
    "    \n",
    "How do we determine which items are in common?\n",
    "\n",
    "#### Naive approach\n",
    "- Nested for loops;\n",
    "    - For every item in List A...\n",
    "    - Compare to every item in List B...\n",
    "- Completing in O(n^2)\n",
    "\n",
    "#### Hash Table Approach\n",
    "- Key knowledge: the same key will result in the same hash number \n",
    "- Steps:\n",
    "    1. Put List A into a dictionary; the value of each key as \"True\"\n",
    "    2. For each item in List B, search through the dictionary. If no match, return false\n",
    "- Since this loops through each list only once each time, this runs in O(2n), simplifying to O(n)\n",
    "- HashTable/Dictionary approach is way more efficient"
   ]
  },
  {
   "cell_type": "code",
   "execution_count": 42,
   "id": "f6b3b082",
   "metadata": {},
   "outputs": [],
   "source": [
    "def item_in_common(list1, list2):\n",
    "    dict_list1 = {}\n",
    "    for item in list1:\n",
    "        dict_list1[item] = True\n",
    "    for item in list2:\n",
    "        if item in dict_list1:\n",
    "            return True\n",
    "    return False"
   ]
  },
  {
   "cell_type": "code",
   "execution_count": 44,
   "id": "f143a484",
   "metadata": {},
   "outputs": [
    {
     "data": {
      "text/plain": [
       "True"
      ]
     },
     "execution_count": 44,
     "metadata": {},
     "output_type": "execute_result"
    }
   ],
   "source": [
    "list1 = [\"mary\", \"elizabeth\", \"winstead\"]\n",
    "list2 = [\"matthew\", \"mccough\", \"mary\"]\n",
    "item_in_common(list1, list2)"
   ]
  },
  {
   "cell_type": "code",
   "execution_count": 37,
   "id": "8da72308",
   "metadata": {},
   "outputs": [
    {
     "data": {
      "text/plain": [
       "False"
      ]
     },
     "execution_count": 37,
     "metadata": {},
     "output_type": "execute_result"
    }
   ],
   "source": []
  },
  {
   "cell_type": "code",
   "execution_count": 29,
   "id": "9b8e4f92",
   "metadata": {},
   "outputs": [],
   "source": [
    "# Creating HashTable get_item\n",
    "class HashTable:                       # initializing the node class\n",
    "    def __init__(self, size = 7):      # sets default size=7\n",
    "        self.data_map = [None] * size  # creates a data_map of 7 [Nones]\n",
    "        \n",
    "    def hash(self, key):\n",
    "        my_hash = 0\n",
    "        for letter in key:         \n",
    "            my_hash = (my_hash         # difficult to backcalculate \n",
    "                      + ord(letter)    # takes ASCII value of each leter\n",
    "                      * 23             # 23 is prime number\n",
    "                      ) % len(self.data_map)\n",
    "        # here, len(self.data_map) == 7\n",
    "        # so modulo 7 will always return a number from 0 to 6\n",
    "        # which gives us a clever way to find a hash address\n",
    "        return my_hash\n",
    "    \n",
    "    def print_table(self):\n",
    "        for i, val in enumerate(self.data_map):\n",
    "            print(i, \" : \", val)\n",
    "    \n",
    "    def set_item(self, key, value):\n",
    "        index = self.hash(key)       # hashing to create the address\n",
    "        if self.data_map[index] == None:\n",
    "            self.data_map[index] = []      # creating empty list at address\n",
    "        self.data_map[index].append([key, value])\n",
    "        \n",
    "    def get_item(self, key):\n",
    "        index = self.hash(key)       # hashing to create the address\n",
    "        if self.data_map[index] is not None:\n",
    "            for list in self.data_map[index]:\n",
    "                if list[0] == key:\n",
    "                    return list [1]  # returns the value of pair\n",
    "        return None\n",
    "    \n",
    "    def keys(self):\n",
    "        all_keys = []\n",
    "        for container in self.data_map:\n",
    "            if container is not None:\n",
    "                for key_value_pair in container:\n",
    "                    all_keys.append(key_value_pair[0])\n",
    "        return all_keys"
   ]
  },
  {
   "cell_type": "code",
   "execution_count": 30,
   "id": "dbafa529",
   "metadata": {},
   "outputs": [
    {
     "name": "stdout",
     "output_type": "stream",
     "text": [
      "0  :  None\n",
      "1  :  None\n",
      "2  :  None\n",
      "3  :  None\n",
      "4  :  [['bolts', 1400], ['washers', 50]]\n",
      "5  :  None\n",
      "6  :  [['lumber', 70]]\n"
     ]
    }
   ],
   "source": [
    "my_hash_table = HashTable()\n",
    "\n",
    "my_hash_table.set_item('bolts', 1400)\n",
    "my_hash_table.set_item('washers', 50)\n",
    "my_hash_table.set_item('lumber', 70)\n",
    "\n",
    "\n",
    "my_hash_table.print_table()"
   ]
  },
  {
   "cell_type": "code",
   "execution_count": 31,
   "id": "2b0fc3c8",
   "metadata": {
    "scrolled": true
   },
   "outputs": [
    {
     "data": {
      "text/plain": [
       "['bolts', 'washers', 'lumber']"
      ]
     },
     "execution_count": 31,
     "metadata": {},
     "output_type": "execute_result"
    }
   ],
   "source": [
    "my_hash_table.keys()"
   ]
  }
 ],
 "metadata": {
  "kernelspec": {
   "display_name": "Python 3 (ipykernel)",
   "language": "python",
   "name": "python3"
  },
  "language_info": {
   "codemirror_mode": {
    "name": "ipython",
    "version": 3
   },
   "file_extension": ".py",
   "mimetype": "text/x-python",
   "name": "python",
   "nbconvert_exporter": "python",
   "pygments_lexer": "ipython3",
   "version": "3.9.12"
  }
 },
 "nbformat": 4,
 "nbformat_minor": 5
}
