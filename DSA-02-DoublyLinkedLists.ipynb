{
 "cells": [
  {
   "cell_type": "markdown",
   "id": "d02022cc",
   "metadata": {},
   "source": [
    "# Notes for Doubly Linked Lists\n",
    "* Doubly-linked lists have arrows pointing before & after;\n",
    "* The biggest _structural_ difference is the additional arrow pointing backwards;"
   ]
  },
  {
   "cell_type": "markdown",
   "id": "cdd60fe1",
   "metadata": {},
   "source": [
    "### 1.0 Constructor & Node class"
   ]
  },
  {
   "cell_type": "code",
   "execution_count": 2,
   "id": "017c0a65",
   "metadata": {},
   "outputs": [],
   "source": [
    "# Creating Node Class\n",
    "class Node:                            # initializing the node class\n",
    "    def __init__(self, value):          # creates Node-unique methods of value & next\n",
    "        self.value = value\n",
    "        self.next = None\n",
    "        self.prev = None                # biggest structural difference"
   ]
  },
  {
   "cell_type": "code",
   "execution_count": 5,
   "id": "8c7ecee9",
   "metadata": {},
   "outputs": [],
   "source": [
    "# 1.0 DoublyLinkedList Constructor   # same as LL! \n",
    "\n",
    "class DoublyLinkedList:                      # initializing the DLL class, defining its attributes\n",
    "    def __init__(self, value): \n",
    "        new_node = Node(value)           # calls the Node class, passing 'value' to the value of class\n",
    "        self.head = new_node\n",
    "        self.tail = new_node\n",
    "        self.length = 1\n",
    "      "
   ]
  },
  {
   "cell_type": "code",
   "execution_count": 7,
   "id": "654c83a2",
   "metadata": {},
   "outputs": [
    {
     "name": "stdout",
     "output_type": "stream",
     "text": [
      "4\n"
     ]
    }
   ],
   "source": [
    "my_doubly_linked_list = DoublyLinkedList(4)\n",
    "my_dll = my_doubly_linked_list\n",
    "print(my_dll.head.value) #output expected 4"
   ]
  },
  {
   "cell_type": "code",
   "execution_count": 8,
   "id": "2c00970a",
   "metadata": {
    "scrolled": false
   },
   "outputs": [
    {
     "name": "stdout",
     "output_type": "stream",
     "text": [
      "None\n"
     ]
    }
   ],
   "source": [
    "print(my_dll.tail.next) #output expected None"
   ]
  },
  {
   "cell_type": "markdown",
   "id": "f58cbc05",
   "metadata": {},
   "source": [
    "### 1.1 Append & print_list"
   ]
  },
  {
   "cell_type": "code",
   "execution_count": 9,
   "id": "5a7f1a5f",
   "metadata": {},
   "outputs": [],
   "source": [
    "# 1.0a creating function to print linked lists\n",
    "\n",
    "class DoublyLinkedList:                   # initializing the DLL class, defining its attributes\n",
    "    def __init__(self, value): \n",
    "        new_node = Node(value)           # calls the Node class, passing 'value' to the value of class\n",
    "        self.head = new_node\n",
    "        self.tail = new_node\n",
    "        self.length = 1\n",
    "\n",
    "    def append(self, value):\n",
    "        new_node = Node(value)\n",
    "        if self.head is None:\n",
    "            self.head = new_node\n",
    "            self.tail = new_node\n",
    "        else:\n",
    "            self.tail.next = new_node\n",
    "            new_node.prev = self.tail\n",
    "            self.tail = new_node\n",
    "        self.length += 1\n",
    "        return True\n",
    "            \n",
    "    def print_list(self): \n",
    "        temp = self.head\n",
    "        while temp is not None:\n",
    "            print(temp.value)\n",
    "            temp = temp.next"
   ]
  },
  {
   "cell_type": "code",
   "execution_count": 10,
   "id": "fca11452",
   "metadata": {
    "scrolled": true
   },
   "outputs": [
    {
     "name": "stdout",
     "output_type": "stream",
     "text": [
      "4\n",
      "2\n",
      "third\n",
      "8\n"
     ]
    }
   ],
   "source": [
    "my_dll = DoublyLinkedList(4)\n",
    "my_dll.append(2)\n",
    "my_dll.append(\"third\")\n",
    "my_dll.append(8)\n",
    "my_dll.print_list()"
   ]
  },
  {
   "cell_type": "markdown",
   "id": "2a1c219e",
   "metadata": {},
   "source": [
    "### 1.2 Pop"
   ]
  },
  {
   "cell_type": "code",
   "execution_count": 17,
   "id": "aff09b0d",
   "metadata": {},
   "outputs": [],
   "source": [
    "# 1.1 LinkedList with append\n",
    "\n",
    "class DoublyLinkedList:                   # initializing the DLL class, defining its attributes\n",
    "    def __init__(self, value): \n",
    "        new_node = Node(value)           # calls the Node class, passing 'value' to the value of class\n",
    "        self.head = new_node\n",
    "        self.tail = new_node\n",
    "        self.length = 1\n",
    "\n",
    "    def append(self, value):\n",
    "        new_node = Node(value)\n",
    "        if self.head is None:\n",
    "            self.head = new_node\n",
    "            self.tail = new_node\n",
    "        else:\n",
    "            self.tail.next = new_node\n",
    "            new_node.prev = self.tail\n",
    "            self.tail = new_node\n",
    "        self.length += 1\n",
    "        return True\n",
    "            \n",
    "    def print_list(self): \n",
    "        temp = self.head\n",
    "        while temp is not None:\n",
    "            print(temp.value)\n",
    "            temp = temp.next\n",
    "\n",
    "    def pop(self):           # defining methods that work with new class\n",
    "        if self.head is None:\n",
    "            return None\n",
    "        temp = self.tail\n",
    "        if self.length == 1:\n",
    "            self.head = None\n",
    "            self.tail = None\n",
    "        else:\n",
    "            self.tail = self.tail.prev\n",
    "            self.tail.next = None\n",
    "        self.length -= 1\n",
    "        temp.prev = None\n",
    "        return temp"
   ]
  },
  {
   "cell_type": "code",
   "execution_count": 37,
   "id": "abaacfcf",
   "metadata": {},
   "outputs": [
    {
     "name": "stdout",
     "output_type": "stream",
     "text": [
      "4\n",
      "2\n",
      "third\n",
      "8\n"
     ]
    }
   ],
   "source": [
    "my_dll = DoublyLinkedList(4)\n",
    "my_dll.append(2)\n",
    "my_dll.append(\"third\")\n",
    "my_dll.append(8)\n",
    "my_dll.print_list()"
   ]
  },
  {
   "cell_type": "code",
   "execution_count": 38,
   "id": "b08c32a4",
   "metadata": {},
   "outputs": [
    {
     "name": "stdout",
     "output_type": "stream",
     "text": [
      "8\n",
      "4\n",
      "2\n",
      "third\n",
      "-----\n",
      "third\n",
      "4\n",
      "2\n",
      "-----\n",
      "2\n",
      "4\n",
      "-----\n"
     ]
    }
   ],
   "source": [
    "print(my_dll.pop().value)\n",
    "my_dll.print_list()\n",
    "print(\"-----\")\n",
    "\n",
    "print(my_dll.pop().value)\n",
    "my_dll.print_list()\n",
    "print(\"-----\")\n",
    "\n",
    "print(my_dll.pop().value)\n",
    "my_dll.print_list()\n",
    "print(\"-----\")"
   ]
  },
  {
   "cell_type": "markdown",
   "id": "4d788fb8",
   "metadata": {},
   "source": [
    "### 1.3 Prepend"
   ]
  },
  {
   "cell_type": "code",
   "execution_count": 56,
   "id": "76e46d56",
   "metadata": {},
   "outputs": [],
   "source": [
    "# 1.1 LinkedList with append\n",
    "\n",
    "class DoublyLinkedList:                   # initializing the DLL class, defining its attributes\n",
    "    def __init__(self, value): \n",
    "        new_node = Node(value)           # calls the Node class, passing 'value' to the value of class\n",
    "        self.head = new_node\n",
    "        self.tail = new_node\n",
    "        self.length = 1\n",
    "\n",
    "    def append(self, value):\n",
    "        new_node = Node(value)\n",
    "        if self.head is None:\n",
    "            self.head = new_node\n",
    "            self.tail = new_node\n",
    "        else:\n",
    "            self.tail.next = new_node\n",
    "            new_node.prev = self.tail\n",
    "            self.tail = new_node\n",
    "        self.length += 1\n",
    "        return True\n",
    "            \n",
    "    def print_list(self): \n",
    "        temp = self.head\n",
    "        while temp is not None:\n",
    "            print(temp.value)\n",
    "            temp = temp.next\n",
    "\n",
    "    def pop(self):           # defining methods that work with new class\n",
    "        if self.head is None:\n",
    "            return None\n",
    "        temp = self.tail\n",
    "        if self.length == 1:\n",
    "            self.head = None\n",
    "            self.tail = None\n",
    "        else:\n",
    "            self.tail = self.tail.prev\n",
    "            self.tail.next = None\n",
    "        self.length -= 1\n",
    "        temp.prev = None\n",
    "        return temp\n",
    "    \n",
    "    def prepend(self, value):           # defining methods that work with new class\n",
    "        new_node = Node(value)\n",
    "        if self.head is None:\n",
    "            self.head = new_node\n",
    "            self.tail = new_node\n",
    "        else:\n",
    "            new_node.next = self.head\n",
    "            self.head.prev = new_node\n",
    "            self.head = new_node\n",
    "        self.length += 1\n",
    "        return True\n",
    "        \n",
    "    "
   ]
  },
  {
   "cell_type": "code",
   "execution_count": 57,
   "id": "256ad8ce",
   "metadata": {},
   "outputs": [
    {
     "name": "stdout",
     "output_type": "stream",
     "text": [
      "8\n",
      "second\n",
      "2\n",
      "4\n"
     ]
    }
   ],
   "source": [
    "my_dll = DoublyLinkedList(4)\n",
    "my_dll.prepend(2)\n",
    "my_dll.prepend(\"second\")\n",
    "my_dll.prepend(8)\n",
    "my_dll.print_list()"
   ]
  },
  {
   "cell_type": "code",
   "execution_count": 64,
   "id": "fb561bfd",
   "metadata": {},
   "outputs": [
    {
     "name": "stdout",
     "output_type": "stream",
     "text": [
      "2\n"
     ]
    }
   ],
   "source": [
    "my_dll.print_list()"
   ]
  },
  {
   "cell_type": "markdown",
   "id": "0faf93f3",
   "metadata": {},
   "source": [
    "### 1.4. Pop First\n",
    "* Remove first item;\n",
    "   * set popped.next to None, return popped node\n",
    "   * repoint self.head\n",
    "   * if empty, set head & tail to none."
   ]
  },
  {
   "cell_type": "code",
   "execution_count": 65,
   "id": "f041b39f",
   "metadata": {},
   "outputs": [],
   "source": [
    "# 1.1 LinkedList with append\n",
    "\n",
    "class DoublyLinkedList:                   # initializing the DLL class, defining its attributes\n",
    "    def __init__(self, value): \n",
    "        new_node = Node(value)           # calls the Node class, passing 'value' to the value of class\n",
    "        self.head = new_node\n",
    "        self.tail = new_node\n",
    "        self.length = 1\n",
    "\n",
    "    def append(self, value):\n",
    "        new_node = Node(value)\n",
    "        if self.head is None:\n",
    "            self.head = new_node\n",
    "            self.tail = new_node\n",
    "        else:\n",
    "            self.tail.next = new_node\n",
    "            new_node.prev = self.tail\n",
    "            self.tail = new_node\n",
    "        self.length += 1\n",
    "        return True\n",
    "            \n",
    "    def print_list(self): \n",
    "        temp = self.head\n",
    "        while temp is not None:\n",
    "            print(temp.value)\n",
    "            temp = temp.next\n",
    "\n",
    "    def pop(self):           # defining methods that work with new class\n",
    "        if self.head is None:\n",
    "            return None\n",
    "        temp = self.tail\n",
    "        if self.length == 1:\n",
    "            self.head = None\n",
    "            self.tail = None\n",
    "        else:\n",
    "            self.tail = self.tail.prev\n",
    "            self.tail.next = None\n",
    "        self.length -= 1\n",
    "        temp.prev = None\n",
    "        return temp\n",
    "    \n",
    "    def prepend(self, value):           # defining methods that work with new class\n",
    "        new_node = Node(value)\n",
    "        if self.head is None:\n",
    "            self.head = new_node\n",
    "            self.tail = new_node\n",
    "        else:\n",
    "            new_node.next = self.head\n",
    "            self.head.prev = new_node\n",
    "            self.head = new_node\n",
    "        self.length += 1\n",
    "        return True\n",
    "        \n",
    "    def pop_first(self):           # defining methods that work with new class\n",
    "        if self.head is None:\n",
    "            return None\n",
    "        temp = self.head\n",
    "        if self.length == 1:\n",
    "            self.head = None\n",
    "            self.tail = None\n",
    "        else:\n",
    "            self.head = self.head.next\n",
    "            self.head.prev = None\n",
    "        self.length -= 1\n",
    "        temp.next = None\n",
    "        return temp"
   ]
  },
  {
   "cell_type": "code",
   "execution_count": 85,
   "id": "0d161d3c",
   "metadata": {},
   "outputs": [
    {
     "name": "stdout",
     "output_type": "stream",
     "text": [
      "8\n",
      "second\n",
      "2\n",
      "4\n"
     ]
    }
   ],
   "source": [
    "my_dll = DoublyLinkedList(4)\n",
    "my_dll.prepend(2)\n",
    "my_dll.prepend(\"second\")\n",
    "my_dll.prepend(8)\n",
    "my_dll.print_list()"
   ]
  },
  {
   "cell_type": "code",
   "execution_count": 86,
   "id": "5b7db603",
   "metadata": {
    "scrolled": true
   },
   "outputs": [
    {
     "name": "stdout",
     "output_type": "stream",
     "text": [
      "pop value:  8\n",
      "second\n",
      "2\n",
      "4\n",
      "--- \n",
      "\n",
      "pop value:  second\n",
      "2\n",
      "4\n",
      "--- \n",
      "\n"
     ]
    }
   ],
   "source": [
    "print(\"pop value: \", my_dll.pop_first().value)\n",
    "my_dll.print_list()\n",
    "print(\"---\", \"\\n\")\n",
    "\n",
    "print(\"pop value: \", my_dll.pop_first().value)\n",
    "my_dll.print_list()\n",
    "print(\"---\", \"\\n\")"
   ]
  },
  {
   "cell_type": "code",
   "execution_count": 40,
   "id": "8d256463",
   "metadata": {},
   "outputs": [],
   "source": [
    "# 1.1 LinkedList with append\n",
    "\n",
    "class LinkedList:                      # initializing the LL class, defining its attributes\n",
    "    def __init__(self, value): \n",
    "        new_node = Node(value)           # calls the Node class, passing 'value' to the value of class\n",
    "        self.head = new_node\n",
    "        self.tail = new_node\n",
    "        self.length = 1\n",
    "\n",
    "    def print_list(self): \n",
    "        temp = self.head\n",
    "        while temp is not None:\n",
    "            print(temp.value)\n",
    "            temp = temp.next\n",
    "\n",
    "    def append(self, value):           # defining methods that work with new class\n",
    "        new_node = Node(value)\n",
    "        if self.head is None: \n",
    "            self.head = new_node\n",
    "            self.tail = new_node\n",
    "        else:\n",
    "            self.tail.next = new_node\n",
    "            self.tail = new_node\n",
    "        self.length += 1\n",
    "        return True                      # Optional \n",
    "\n",
    "    def pop(self):           # defining methods that work with new class\n",
    "        if self.length == 0:\n",
    "            return None\n",
    "        else:\n",
    "            temp = self.head\n",
    "            pre = self.head\n",
    "            while (temp.next):         # this statement runs while temp.next is not None\n",
    "                pre = temp\n",
    "                temp = temp.next\n",
    "            self.tail = pre\n",
    "            self.tail.next = None\n",
    "            self.length -= 1\n",
    "            if self.length == 0:\n",
    "                self.head = None\n",
    "                self.tail = None\n",
    "            return temp\n",
    "        \n",
    "    def prepend(self, value):           # defining methods that work with new class\n",
    "        new_node = Node(value)\n",
    "        if self.head is None:\n",
    "            self.head = new_node\n",
    "            self.tail = new_node\n",
    "        else:\n",
    "            new_node.next = self.head\n",
    "            self.head = new_node\n",
    "        self.length += 1\n",
    "        return True"
   ]
  },
  {
   "cell_type": "markdown",
   "id": "b13b3716",
   "metadata": {},
   "source": [
    "### 1.5 Get\n",
    "* Get value at index\n",
    "* Traverse node and return value of node"
   ]
  },
  {
   "cell_type": "code",
   "execution_count": 106,
   "id": "eb778ca5",
   "metadata": {},
   "outputs": [],
   "source": [
    "# 1.1 LinkedList with append\n",
    "\n",
    "class DoublyLinkedList:                   # initializing the DLL class, defining its attributes\n",
    "    def __init__(self, value): \n",
    "        new_node = Node(value)           # calls the Node class, passing 'value' to the value of class\n",
    "        self.head = new_node\n",
    "        self.tail = new_node\n",
    "        self.length = 1\n",
    "\n",
    "    def append(self, value):\n",
    "        new_node = Node(value)\n",
    "        if self.head is None:\n",
    "            self.head = new_node\n",
    "            self.tail = new_node\n",
    "        else:\n",
    "            self.tail.next = new_node\n",
    "            new_node.prev = self.tail\n",
    "            self.tail = new_node\n",
    "        self.length += 1\n",
    "        return True\n",
    "            \n",
    "    def print_list(self): \n",
    "        temp = self.head\n",
    "        while temp is not None:\n",
    "            print(temp.value)\n",
    "            temp = temp.next\n",
    "\n",
    "    def pop(self):           # defining methods that work with new class\n",
    "        if self.head is None:\n",
    "            return None\n",
    "        temp = self.tail\n",
    "        if self.length == 1:\n",
    "            self.head = None\n",
    "            self.tail = None\n",
    "        else:\n",
    "            self.tail = self.tail.prev\n",
    "            self.tail.next = None\n",
    "        self.length -= 1\n",
    "        temp.prev = None\n",
    "        return temp\n",
    "    \n",
    "    def prepend(self, value):           # defining methods that work with new class\n",
    "        new_node = Node(value)\n",
    "        if self.head is None:\n",
    "            self.head = new_node\n",
    "            self.tail = new_node\n",
    "        else:\n",
    "            new_node.next = self.head\n",
    "            self.head.prev = new_node\n",
    "            self.head = new_node\n",
    "        self.length += 1\n",
    "        return True\n",
    "        \n",
    "    def pop_first(self):           # defining methods that work with new class\n",
    "        if self.head is None:\n",
    "            return None\n",
    "        temp = self.head\n",
    "        if self.length == 1:\n",
    "            self.head = None\n",
    "            self.tail = None\n",
    "        else:\n",
    "            self.head = self.head.next\n",
    "            self.head.prev = None\n",
    "        self.length -= 1\n",
    "        temp.next = None\n",
    "        return temp\n",
    "    \n",
    "    def get(self, index):           # note, looks exactly like get\n",
    "        if index < 0 or index >= self.length:\n",
    "            return None\n",
    "        if index < self.length/2:\n",
    "            pointer = self.head\n",
    "            for _ in range(index):\n",
    "                pointer = pointer.next\n",
    "        else:\n",
    "            pointer = self.tail\n",
    "            reverse_index =  self.length - index\n",
    "            for _ in range(self.length - 1, index, -1):\n",
    "                pointer = pointer.prev\n",
    "        return pointer"
   ]
  },
  {
   "cell_type": "code",
   "execution_count": 107,
   "id": "f26c7651",
   "metadata": {},
   "outputs": [
    {
     "name": "stdout",
     "output_type": "stream",
     "text": [
      "8\n",
      "second\n",
      "2\n",
      "4\n",
      "-3\n",
      "-2\n",
      "-1\n"
     ]
    }
   ],
   "source": [
    "my_dll = DoublyLinkedList(4)\n",
    "my_dll.prepend(2)\n",
    "my_dll.prepend(\"second\")\n",
    "my_dll.prepend(8)\n",
    "my_dll.append(-3)\n",
    "my_dll.append(-2)\n",
    "my_dll.append(-1)\n",
    "my_dll.print_list()"
   ]
  },
  {
   "cell_type": "code",
   "execution_count": 115,
   "id": "07111388",
   "metadata": {
    "scrolled": true
   },
   "outputs": [
    {
     "data": {
      "text/plain": [
       "-3"
      ]
     },
     "execution_count": 115,
     "metadata": {},
     "output_type": "execute_result"
    }
   ],
   "source": [
    "my_dll.get(4).value"
   ]
  },
  {
   "cell_type": "markdown",
   "id": "be03e9d7",
   "metadata": {},
   "source": [
    "### 1.6 Set_value\n",
    "* Traverse nodes and change value of node"
   ]
  },
  {
   "cell_type": "code",
   "execution_count": 118,
   "id": "bfeb19ce",
   "metadata": {},
   "outputs": [],
   "source": [
    "# 1.1 LinkedList with append\n",
    "\n",
    "class DoublyLinkedList:                   # initializing the DLL class, defining its attributes\n",
    "    def __init__(self, value): \n",
    "        new_node = Node(value)           # calls the Node class, passing 'value' to the value of class\n",
    "        self.head = new_node\n",
    "        self.tail = new_node\n",
    "        self.length = 1\n",
    "\n",
    "    def append(self, value):\n",
    "        new_node = Node(value)\n",
    "        if self.head is None:\n",
    "            self.head = new_node\n",
    "            self.tail = new_node\n",
    "        else:\n",
    "            self.tail.next = new_node\n",
    "            new_node.prev = self.tail\n",
    "            self.tail = new_node\n",
    "        self.length += 1\n",
    "        return True\n",
    "            \n",
    "    def print_list(self): \n",
    "        temp = self.head\n",
    "        while temp is not None:\n",
    "            print(temp.value)\n",
    "            temp = temp.next\n",
    "\n",
    "    def pop(self):           # defining methods that work with new class\n",
    "        if self.head is None:\n",
    "            return None\n",
    "        temp = self.tail\n",
    "        if self.length == 1:\n",
    "            self.head = None\n",
    "            self.tail = None\n",
    "        else:\n",
    "            self.tail = self.tail.prev\n",
    "            self.tail.next = None\n",
    "        self.length -= 1\n",
    "        temp.prev = None\n",
    "        return temp\n",
    "    \n",
    "    def prepend(self, value):           # defining methods that work with new class\n",
    "        new_node = Node(value)\n",
    "        if self.head is None:\n",
    "            self.head = new_node\n",
    "            self.tail = new_node\n",
    "        else:\n",
    "            new_node.next = self.head\n",
    "            self.head.prev = new_node\n",
    "            self.head = new_node\n",
    "        self.length += 1\n",
    "        return True\n",
    "        \n",
    "    def pop_first(self):           # defining methods that work with new class\n",
    "        if self.head is None:\n",
    "            return None\n",
    "        temp = self.head\n",
    "        if self.length == 1:\n",
    "            self.head = None\n",
    "            self.tail = None\n",
    "        else:\n",
    "            self.head = self.head.next\n",
    "            self.head.prev = None\n",
    "        self.length -= 1\n",
    "        temp.next = None\n",
    "        return temp\n",
    "    \n",
    "    def get(self, index):           \n",
    "        if index < 0 or index >= self.length:\n",
    "            return None\n",
    "        if index < self.length/2:\n",
    "            pointer = self.head\n",
    "            for _ in range(index):\n",
    "                pointer = pointer.next\n",
    "        else:\n",
    "            pointer = self.tail\n",
    "            reverse_index =  self.length - index\n",
    "            for _ in range(self.length - 1, index, -1):\n",
    "                pointer = pointer.prev\n",
    "        return pointer\n",
    "    \n",
    "    \n",
    "    def set_value(self, index, value):           # note, looks exactly like set_value for LL\n",
    "        pointer = self.get(index)\n",
    "        if pointer:\n",
    "            pointer.value = value\n",
    "            return True\n",
    "        else:\n",
    "            return False"
   ]
  },
  {
   "cell_type": "code",
   "execution_count": 119,
   "id": "7cf7eda0",
   "metadata": {},
   "outputs": [
    {
     "name": "stdout",
     "output_type": "stream",
     "text": [
      "8\n",
      "second\n",
      "2\n",
      "4\n",
      "-3\n",
      "-2\n",
      "-1\n"
     ]
    }
   ],
   "source": [
    "my_dll = DoublyLinkedList(4)\n",
    "my_dll.prepend(2)\n",
    "my_dll.prepend(\"second\")\n",
    "my_dll.prepend(8)\n",
    "my_dll.append(-3)\n",
    "my_dll.append(-2)\n",
    "my_dll.append(-1)\n",
    "my_dll.print_list()"
   ]
  },
  {
   "cell_type": "code",
   "execution_count": 121,
   "id": "492ab3e2",
   "metadata": {
    "scrolled": true
   },
   "outputs": [
    {
     "name": "stdout",
     "output_type": "stream",
     "text": [
      "first\n",
      "second\n",
      "2\n",
      "middle\n",
      "-3\n",
      "-2\n",
      "last\n"
     ]
    }
   ],
   "source": [
    "my_dll.set_value(0, \"first\")\n",
    "my_dll.set_value(3, \"middle\")\n",
    "my_dll.set_value(6, \"last\")\n",
    "my_dll.print_list()"
   ]
  },
  {
   "cell_type": "markdown",
   "id": "fcc5b3ad",
   "metadata": {},
   "source": [
    "### 1.7 Insert\n",
    "* Create new node\n",
    "* Insert node at index\n",
    "* Repoint nodes before & after"
   ]
  },
  {
   "cell_type": "code",
   "execution_count": 122,
   "id": "7e94387b",
   "metadata": {},
   "outputs": [],
   "source": [
    "# 1.1 LinkedList with append\n",
    "\n",
    "class DoublyLinkedList:                   # initializing the DLL class, defining its attributes\n",
    "    def __init__(self, value): \n",
    "        new_node = Node(value)           # calls the Node class, passing 'value' to the value of class\n",
    "        self.head = new_node\n",
    "        self.tail = new_node\n",
    "        self.length = 1\n",
    "\n",
    "    def append(self, value):\n",
    "        new_node = Node(value)\n",
    "        if self.head is None:\n",
    "            self.head = new_node\n",
    "            self.tail = new_node\n",
    "        else:\n",
    "            self.tail.next = new_node\n",
    "            new_node.prev = self.tail\n",
    "            self.tail = new_node\n",
    "        self.length += 1\n",
    "        return True\n",
    "            \n",
    "    def print_list(self): \n",
    "        temp = self.head\n",
    "        while temp is not None:\n",
    "            print(temp.value)\n",
    "            temp = temp.next\n",
    "\n",
    "    def pop(self):           # defining methods that work with new class\n",
    "        if self.head is None:\n",
    "            return None\n",
    "        temp = self.tail\n",
    "        if self.length == 1:\n",
    "            self.head = None\n",
    "            self.tail = None\n",
    "        else:\n",
    "            self.tail = self.tail.prev\n",
    "            self.tail.next = None\n",
    "        self.length -= 1\n",
    "        temp.prev = None\n",
    "        return temp\n",
    "    \n",
    "    def prepend(self, value):           # defining methods that work with new class\n",
    "        new_node = Node(value)\n",
    "        if self.head is None:\n",
    "            self.head = new_node\n",
    "            self.tail = new_node\n",
    "        else:\n",
    "            new_node.next = self.head\n",
    "            self.head.prev = new_node\n",
    "            self.head = new_node\n",
    "        self.length += 1\n",
    "        return True\n",
    "        \n",
    "    def pop_first(self):           # defining methods that work with new class\n",
    "        if self.head is None:\n",
    "            return None\n",
    "        temp = self.head\n",
    "        if self.length == 1:\n",
    "            self.head = None\n",
    "            self.tail = None\n",
    "        else:\n",
    "            self.head = self.head.next\n",
    "            self.head.prev = None\n",
    "        self.length -= 1\n",
    "        temp.next = None\n",
    "        return temp\n",
    "    \n",
    "    def get(self, index):           \n",
    "        if index < 0 or index >= self.length:\n",
    "            return None\n",
    "        if index < self.length/2:\n",
    "            pointer = self.head\n",
    "            for _ in range(index):\n",
    "                pointer = pointer.next\n",
    "        else:\n",
    "            pointer = self.tail\n",
    "            reverse_index =  self.length - index\n",
    "            for _ in range(self.length - 1, index, -1):\n",
    "                pointer = pointer.prev\n",
    "        return pointer\n",
    "    \n",
    "    \n",
    "    def set_value(self, index, value):           # note, looks exactly like set_value for LL\n",
    "        pointer = self.get(index)\n",
    "        if pointer:\n",
    "            pointer.value = value\n",
    "            return True\n",
    "        else:\n",
    "            return False\n",
    "        \n",
    "    def insert(self, index, value):           \n",
    "        if index < 0 or index > self.length:\n",
    "            return False\n",
    "        if index == 0:\n",
    "            return self.prepend(value)\n",
    "        if index == self.length:\n",
    "            return self.append(value)\n",
    "        else:\n",
    "            new_node = Node(value)\n",
    "            precursor = self.get(index).prev\n",
    "            new_node.next = precursor.next\n",
    "            new_node.prev = precursor\n",
    "            precursor.next = new_node\n",
    "            self.length += 1\n",
    "            return True\n",
    "        "
   ]
  },
  {
   "cell_type": "code",
   "execution_count": 134,
   "id": "98f0a2dc",
   "metadata": {},
   "outputs": [
    {
     "name": "stdout",
     "output_type": "stream",
     "text": [
      "second\n",
      "2\n",
      "4\n",
      "-2\n",
      "-1\n"
     ]
    }
   ],
   "source": [
    "my_dll = DoublyLinkedList(4)\n",
    "my_dll.prepend(2)\n",
    "my_dll.prepend(\"second\")\n",
    "my_dll.append(-2)\n",
    "my_dll.append(-1)\n",
    "my_dll.print_list()"
   ]
  },
  {
   "cell_type": "code",
   "execution_count": 135,
   "id": "3190b75b",
   "metadata": {
    "scrolled": true
   },
   "outputs": [
    {
     "name": "stdout",
     "output_type": "stream",
     "text": [
      "first\n",
      "second\n",
      "2\n",
      "fourth\n",
      "4\n",
      "-2\n",
      "-1\n",
      "last\n"
     ]
    }
   ],
   "source": [
    "my_dll.insert(0, \"first\")\n",
    "my_dll.insert(3, \"fourth\")\n",
    "my_dll.insert(my_dll.length, \"last\")\n",
    "my_dll.print_list()"
   ]
  },
  {
   "cell_type": "markdown",
   "id": "819c2a1a",
   "metadata": {},
   "source": [
    "### 1.8 remove\n",
    "* Get node at index\n",
    "* Repoint before & after nodes"
   ]
  },
  {
   "cell_type": "code",
   "execution_count": 137,
   "id": "e9a31cf3",
   "metadata": {},
   "outputs": [],
   "source": [
    "# 1.1 LinkedList with append\n",
    "\n",
    "class DoublyLinkedList:                   # initializing the DLL class, defining its attributes\n",
    "    def __init__(self, value): \n",
    "        new_node = Node(value)           # calls the Node class, passing 'value' to the value of class\n",
    "        self.head = new_node\n",
    "        self.tail = new_node\n",
    "        self.length = 1\n",
    "\n",
    "    def append(self, value):\n",
    "        new_node = Node(value)\n",
    "        if self.head is None:\n",
    "            self.head = new_node\n",
    "            self.tail = new_node\n",
    "        else:\n",
    "            self.tail.next = new_node\n",
    "            new_node.prev = self.tail\n",
    "            self.tail = new_node\n",
    "        self.length += 1\n",
    "        return True\n",
    "            \n",
    "    def print_list(self): \n",
    "        temp = self.head\n",
    "        while temp is not None:\n",
    "            print(temp.value)\n",
    "            temp = temp.next\n",
    "\n",
    "    def pop(self):           # defining methods that work with new class\n",
    "        if self.head is None:\n",
    "            return None\n",
    "        temp = self.tail\n",
    "        if self.length == 1:\n",
    "            self.head = None\n",
    "            self.tail = None\n",
    "        else:\n",
    "            self.tail = self.tail.prev\n",
    "            self.tail.next = None\n",
    "        self.length -= 1\n",
    "        temp.prev = None\n",
    "        return temp\n",
    "    \n",
    "    def prepend(self, value):           # defining methods that work with new class\n",
    "        new_node = Node(value)\n",
    "        if self.head is None:\n",
    "            self.head = new_node\n",
    "            self.tail = new_node\n",
    "        else:\n",
    "            new_node.next = self.head\n",
    "            self.head.prev = new_node\n",
    "            self.head = new_node\n",
    "        self.length += 1\n",
    "        return True\n",
    "        \n",
    "    def pop_first(self):           # defining methods that work with new class\n",
    "        if self.head is None:\n",
    "            return None\n",
    "        temp = self.head\n",
    "        if self.length == 1:\n",
    "            self.head = None\n",
    "            self.tail = None\n",
    "        else:\n",
    "            self.head = self.head.next\n",
    "            self.head.prev = None\n",
    "        self.length -= 1\n",
    "        temp.next = None\n",
    "        return temp\n",
    "    \n",
    "    def get(self, index):           \n",
    "        if index < 0 or index >= self.length:\n",
    "            return None\n",
    "        if index < self.length/2:\n",
    "            pointer = self.head\n",
    "            for _ in range(index):\n",
    "                pointer = pointer.next\n",
    "        else:\n",
    "            pointer = self.tail\n",
    "            reverse_index =  self.length - index\n",
    "            for _ in range(self.length - 1, index, -1):\n",
    "                pointer = pointer.prev\n",
    "        return pointer\n",
    "    \n",
    "    \n",
    "    def set_value(self, index, value):           # note, looks exactly like set_value for LL\n",
    "        pointer = self.get(index)\n",
    "        if pointer:\n",
    "            pointer.value = value\n",
    "            return True\n",
    "        else:\n",
    "            return False\n",
    "        \n",
    "    def insert(self, index, value):           \n",
    "        if index < 0 or index > self.length:\n",
    "            return False\n",
    "        if index == 0:\n",
    "            return self.prepend(value)\n",
    "        if index == self.length:\n",
    "            return self.append(value)\n",
    "        else:\n",
    "            new_node = Node(value)\n",
    "            precursor = self.get(index).prev\n",
    "            new_node.next = precursor.next\n",
    "            new_node.prev = precursor\n",
    "            precursor.next = new_node\n",
    "            self.length += 1\n",
    "            return True\n",
    "        \n",
    "    def remove(self, index):\n",
    "        if index < 0 or index >= self.length or self.length == 0:\n",
    "            return False\n",
    "        if self.length == 1 or index == self.length - 1:\n",
    "            return self.pop()\n",
    "        if index == 0:\n",
    "            return self.pop_first()\n",
    "        else:\n",
    "            pointer = self.get(index)\n",
    "            pointer.prev.next = pointer.next\n",
    "            pointer.next.prev = pointer.prev\n",
    "            pointer.next = None\n",
    "            pointer.prev = None\n",
    "            self.length -= 1\n",
    "            return pointer\n",
    "        "
   ]
  },
  {
   "cell_type": "code",
   "execution_count": 152,
   "id": "2f723080",
   "metadata": {},
   "outputs": [
    {
     "name": "stdout",
     "output_type": "stream",
     "text": [
      "first\n",
      "2\n",
      "third\n",
      "4\n",
      "fifth\n"
     ]
    }
   ],
   "source": [
    "my_dll = DoublyLinkedList(\"first\")\n",
    "my_dll.append(2)\n",
    "my_dll.append(\"third\")\n",
    "my_dll.append(4)\n",
    "my_dll.append(\"fifth\")\n",
    "my_dll.print_list()"
   ]
  },
  {
   "cell_type": "code",
   "execution_count": 156,
   "id": "c7a7f130",
   "metadata": {
    "scrolled": false
   },
   "outputs": [
    {
     "data": {
      "text/plain": [
       "'first'"
      ]
     },
     "execution_count": 156,
     "metadata": {},
     "output_type": "execute_result"
    }
   ],
   "source": [
    "my_dll.remove(0).value\n",
    "my_dll.print_list()"
   ]
  },
  {
   "cell_type": "code",
   "execution_count": 170,
   "id": "3f216b35",
   "metadata": {},
   "outputs": [
    {
     "name": "stdout",
     "output_type": "stream",
     "text": [
      "4\n",
      "third_index\n",
      "2\n",
      "first\n",
      "0\n"
     ]
    }
   ],
   "source": [
    "my_linked_list.reverse()\n",
    "my_linked_list.print_list()"
   ]
  }
 ],
 "metadata": {
  "kernelspec": {
   "display_name": "Python 3 (ipykernel)",
   "language": "python",
   "name": "python3"
  },
  "language_info": {
   "codemirror_mode": {
    "name": "ipython",
    "version": 3
   },
   "file_extension": ".py",
   "mimetype": "text/x-python",
   "name": "python",
   "nbconvert_exporter": "python",
   "pygments_lexer": "ipython3",
   "version": "3.7.11"
  }
 },
 "nbformat": 4,
 "nbformat_minor": 5
}
