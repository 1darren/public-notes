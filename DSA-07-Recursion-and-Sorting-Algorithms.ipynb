{
 "cells": [
  {
   "cell_type": "markdown",
   "id": "98ea0ecd",
   "metadata": {},
   "source": [
    "# 7.0 Recursion & Bubble Sort\n",
    "\n",
    "- Recursion can be defined as \"a function that calls itself until it doesn't\"\n",
    "    - each time we recur, the problem becomes smaller -> point of recursion\n",
    "\n",
    "- Recursive functions usually have 2 parts;\n",
    "    - base case, the \"until it doesn't\" \n",
    "        - it has to be true _at some point_\n",
    "        - `if` statements can be hard to read, so check that the base case will terminate\n",
    "        - it should end with a return statement to end the function/end the loop\n",
    "    - recursive case, when it calls itself\n",
    "    - if a function keeps calling itself, it will recur infinitely and result in stack overflow"
   ]
  },
  {
   "cell_type": "markdown",
   "id": "59b9800a",
   "metadata": {},
   "source": [
    "### 7.0.1 The Call Stack\n",
    "- equivalent to \"the stack\" in Magic\n",
    "    - similar to DSA 02 Stack -- LIFO; \n",
    "    \n",
    "- consider the following code:\n",
    "\n",
    "```\n",
    "def func_one:\n",
    "    func_two\n",
    "    print(\"One\")\n",
    "\n",
    "def func_two:\n",
    "    func_tree\n",
    "    print(\"Two\")\n",
    "\n",
    "def func_tree:\n",
    "    print(\"Three\")\n",
    "\n",
    "```\n",
    "- the output would look like:\n",
    "\n",
    "```\n",
    "> \"Three\"\n",
    "> \"Two\"\n",
    "> \"One\"\n",
    "```\n",
    "\n",
    "- this is because LIFO -- though the scripts are run 1>2>3, they are resolved with the latest one first; analogous to solving the smallest parenthesis and working outwards"
   ]
  },
  {
   "cell_type": "markdown",
   "id": "3d49632f",
   "metadata": {},
   "source": [
    "## 7.1 Recursion via Factorial Functions\n",
    "\n",
    "### Factorials\n",
    "\n",
    "`    4! = 4 * 3 * 2 * 1`\n",
    "\n",
    "Another way to rewrite this is:\n",
    "```\n",
    "4! = 4 * 3!        # recursive case\n",
    "3! = 3 * 2!        # recursive case\n",
    "2! = 2 * 1!        # recursive case\n",
    "1! = 1             # base case\n",
    "```\n",
    "Or, 3 recursive cases and 1 base cases\n"
   ]
  },
  {
   "cell_type": "code",
   "execution_count": 3,
   "id": "883372ba",
   "metadata": {},
   "outputs": [
    {
     "data": {
      "text/plain": [
       "24"
      ]
     },
     "execution_count": 3,
     "metadata": {},
     "output_type": "execute_result"
    }
   ],
   "source": [
    "def factorial(n):\n",
    "    if n == 1: \n",
    "        return 1\n",
    "    else:\n",
    "        return n * factorial(n-1)\n",
    "    \n",
    "factorial(4)     # expected 4*3*2*1 == 24"
   ]
  },
  {
   "cell_type": "markdown",
   "id": "74f6bf67",
   "metadata": {},
   "source": [
    "## 7.2  Understanding the `Bubble Sort` Algo\n",
    "- Consider a series [4, 2, 6, 5, 1, 3] \n",
    "- Bubble sort algo starts at index 1, and compares with index 2:\n",
    "    - if [2] > [1], nothing\n",
    "    - if [1] > [2], they swap places\n",
    "    - the algo then considers indexes [2] and [3]\n",
    "- the endgoal outcome is to \"bubble up\" the largest number to the end of the series\n",
    "\n",
    "- Running a bubble sort on our example series, we see:\n",
    "    0.  [4, 2, 6, 5, 1, 3] \n",
    "    1.  [4, 2, 5, 1, 3, 6]\n",
    "    2.  [4, 2, 1, 3, 5, 6]\n",
    "    3.  [2, 1, 3, 4, 5, 6]\n",
    "    4.  [4, 2, 1, 3, 5, 6]\n"
   ]
  },
  {
   "cell_type": "code",
   "execution_count": 2,
   "id": "d4206494",
   "metadata": {},
   "outputs": [],
   "source": [
    "def bubble_sort(my_list):\n",
    "    for i in range (len(my_list) - 1, 0, -1): \n",
    "        # reduces by 1 each time, starting with len(my_list) -1\n",
    "        # for a list of 6, runs 5/4/3/2/1 times\n",
    "        \n",
    "        for j in range(i): \n",
    "            if my_list[j] > my_list[j+1]:\n",
    "                temp_holder = my_list[j]\n",
    "                my_list[j] = my_list[j+1]\n",
    "                my_list[j+1] = temp_holder\n",
    "    return my_list"
   ]
  },
  {
   "cell_type": "code",
   "execution_count": 3,
   "id": "9dd2ec18",
   "metadata": {
    "scrolled": true
   },
   "outputs": [
    {
     "name": "stdout",
     "output_type": "stream",
     "text": [
      "[1, 2, 3, 4, 5, 6]\n"
     ]
    }
   ],
   "source": [
    "test_list = [4, 2, 6, 5, 1, 3]\n",
    "print(bubble_sort(test_list))"
   ]
  },
  {
   "cell_type": "markdown",
   "id": "90b2a85b",
   "metadata": {},
   "source": [
    "### 7.2.1 Bubble Sort Plus\n",
    "- Optimization: when iterating through the list, check if any swaps were made. If  no swaps, end the loop:\n",
    "    - no swaps means all items are already sorted; can skip iterations\n",
    "    - catches a sorted list early"
   ]
  },
  {
   "cell_type": "code",
   "execution_count": 16,
   "id": "838bd76b",
   "metadata": {},
   "outputs": [],
   "source": [
    "def bubble_sort_plus(my_list):\n",
    "    for i in range (len(my_list) - 1, 0, -1): \n",
    "                                    # reduces by 1 each time, starting with len(my_list) -1\n",
    "                                    # for a list of 6, runs 5/4/3/2/1 times\n",
    "        noSwap = True               # checks if a swap is made on this run of i \n",
    "        for j in range(i):\n",
    "            if my_list[j] > my_list[j+1]:\n",
    "                temp_holder = my_list[j]\n",
    "                my_list[j] = my_list[j+1]\n",
    "                my_list[j+1] = temp_holder\n",
    "                noSwap = False\n",
    "        if noSwap == True:          # If noSwap in this run, end loop early\n",
    "            print(\"already sorted!\")\n",
    "            return my_list\n",
    "    return my_list"
   ]
  },
  {
   "cell_type": "markdown",
   "id": "4fbefda2",
   "metadata": {},
   "source": [
    "## 7.2  Understanding the `Selection Sort` Algo\n",
    "- Consider a series [4, 2, 6, 5, 1, 3] \n",
    "- Selection Sort recalls the index of the lowest number;\n",
    "    - starting at index 0; min_index = 0, value = 4,\n",
    "    - moving to index 1, value 2; min_index is now 2\n",
    "    - etc, etc, until at index 5, value 3, min_index is 5 (value 1)\n",
    "    - values swap, and repeat at index"
   ]
  },
  {
   "cell_type": "code",
   "execution_count": 40,
   "id": "94577e04",
   "metadata": {
    "scrolled": true
   },
   "outputs": [],
   "source": [
    "def selection_sort(my_list):\n",
    "    for i in range (len(my_list)):\n",
    "        print(\"Run # %i \\n\" % i, my_list)\n",
    "        min_index = i\n",
    "        for j in range(i, len(my_list)):\n",
    "            if my_list[j] < my_list[min_index]:\n",
    "                min_index = j\n",
    "                print(j, \": \", my_list[min_index])\n",
    "        if min_index != i:\n",
    "            temp = my_list[i]\n",
    "            my_list[i] = my_list[min_index]\n",
    "            my_list[min_index] = temp\n",
    "        print(\"After run # \\n\", i, my_list)\n",
    "        print(\"..... \\n\")\n",
    "    return my_list\n",
    "            \n",
    "            "
   ]
  },
  {
   "cell_type": "code",
   "execution_count": 41,
   "id": "9cd6ff36",
   "metadata": {
    "scrolled": true
   },
   "outputs": [
    {
     "name": "stdout",
     "output_type": "stream",
     "text": [
      "Run # 0 \n",
      " [4, 2, 6, 5, 1, 3]\n",
      "1 :  2\n",
      "4 :  1\n",
      "After run # \n",
      " 0 [1, 2, 6, 5, 4, 3]\n",
      "..... \n",
      "\n",
      "Run # 1 \n",
      " [1, 2, 6, 5, 4, 3]\n",
      "After run # \n",
      " 1 [1, 2, 6, 5, 4, 3]\n",
      "..... \n",
      "\n",
      "Run # 2 \n",
      " [1, 2, 6, 5, 4, 3]\n",
      "3 :  5\n",
      "4 :  4\n",
      "5 :  3\n",
      "After run # \n",
      " 2 [1, 2, 3, 5, 4, 6]\n",
      "..... \n",
      "\n",
      "Run # 3 \n",
      " [1, 2, 3, 5, 4, 6]\n",
      "4 :  4\n",
      "After run # \n",
      " 3 [1, 2, 3, 4, 5, 6]\n",
      "..... \n",
      "\n",
      "Run # 4 \n",
      " [1, 2, 3, 4, 5, 6]\n",
      "After run # \n",
      " 4 [1, 2, 3, 4, 5, 6]\n",
      "..... \n",
      "\n",
      "Run # 5 \n",
      " [1, 2, 3, 4, 5, 6]\n",
      "After run # \n",
      " 5 [1, 2, 3, 4, 5, 6]\n",
      "..... \n",
      "\n"
     ]
    },
    {
     "data": {
      "text/plain": [
       "[1, 2, 3, 4, 5, 6]"
      ]
     },
     "execution_count": 41,
     "metadata": {},
     "output_type": "execute_result"
    }
   ],
   "source": [
    "selection_sort( [4, 2,6, 5, 1, 3])"
   ]
  },
  {
   "cell_type": "markdown",
   "id": "bb8f4d37",
   "metadata": {},
   "source": [
    "## 7.3  Understanding the `Insertion Sort` Algo\n",
    "- Consider a series [4, 2, 6, 5, 1, 3] \n",
    "- Insertion Sort can be thought of of breaking a list into two lists;\n",
    "    - e.g. the series is thought of as []  + [4, 2, 6, 5, 1, 3] \n",
    "    - You start with the second item, e.g. assume that the first item is already in the list;\n",
    "    - e.g. [4,] + [2, 6, 5, 1, 3] \n",
    "    - first item; [2]:\n",
    "        - if 2 < 4, then we put 2 before 4;\n",
    "        - [2, 4] + [6, 5, 1, 3]\n",
    "    - third item, 5, at [2, 4, 6] + [5, 1, 3]:\n",
    "        - 5 < 6, so it goes before 6\n",
    "        - 5 > 4, so it stops here\n",
    "        - [2, 4, 5, 6] + [1, 3]"
   ]
  },
  {
   "cell_type": "code",
   "execution_count": 42,
   "id": "15c3e21f",
   "metadata": {},
   "outputs": [],
   "source": [
    "def insertion_sort(my_list):\n",
    "    for i in range (1, len(my_list)):\n",
    "        temp = my_list[i]\n",
    "        j = i - 1\n",
    "        while temp < my_list[j] and j > -1:\n",
    "            my_list[j+1] = my_list[j]\n",
    "            my_list[j] = temp\n",
    "            j -= 1                      # repeats if smaller\n",
    "    return my_list"
   ]
  },
  {
   "cell_type": "code",
   "execution_count": 43,
   "id": "b29f011c",
   "metadata": {},
   "outputs": [
    {
     "data": {
      "text/plain": [
       "[1, 2, 3, 4, 5, 6]"
      ]
     },
     "execution_count": 43,
     "metadata": {},
     "output_type": "execute_result"
    }
   ],
   "source": [
    "insertion_sort( [4, 2,6, 5, 1, 3])"
   ]
  },
  {
   "cell_type": "markdown",
   "id": "67d56cc0",
   "metadata": {},
   "source": [
    "## 7.4  Sorting Algorithm Big(O)\n",
    "- All three algos have loops-within-loops, therefore they have O(n^2)\n",
    "    - insertion_sort works efficiently if data is sorted or semi-sorted; can reach O(n) in certain best case scenarios\n",
    "        - bubble & selection sort do not decrease like this \n",
    "    \n",
    "- All three sorts have O(1) space complexity;\n",
    "    - they do not create additional copies of the list\n",
    "    - they only store one temp value at a time\n",
    "\n",
    "---------------------\n"
   ]
  },
  {
   "cell_type": "markdown",
   "id": "7c1d178e",
   "metadata": {},
   "source": [
    "## 7.5 `Merge Sort` Algorithm \n",
    "- It's easier to sort 2 sorted lists then to sort 2 unsorted lists\n",
    "- Merge sort breaks a list down into n lists of 1 item each\n",
    "    - therefore, each list is sorted\n",
    "    - You can then run merge_helper function to combine sets of 2 lists at a time\n",
    "- For example, starting with an unsorted list of 8 items, \n",
    "    - you create 2 lists of 4 items...\n",
    "    - you create 4 lists of 2 items...\n",
    "    - you create 8 lists of 1 item only, but since the lists are sorted...\n",
    "    - you can merge_helper them into 4 sorted lists of 2 items each,\n",
    "    - 2 lists of 4 sorted items and then 1 list of 8 sorted items."
   ]
  },
  {
   "cell_type": "code",
   "execution_count": 3,
   "id": "c0b9e0d7",
   "metadata": {},
   "outputs": [],
   "source": [
    "def merge_helper(list_1, list_2):\n",
    "    i, j = 0, 0\n",
    "    output_list = []\n",
    "    while i < len(list_1) and j < len(list_2):\n",
    "        if list_1[i] < list_2[j]:\n",
    "            output_list.append(list_1[i])\n",
    "            i += 1\n",
    "        else:\n",
    "            output_list.append(list_2[j])\n",
    "            j += 1\n",
    "    while i < len(list_1):\n",
    "        output_list.append(list_1[i])\n",
    "        i += 1\n",
    "    while j < len(list_2):\n",
    "        output_list.append(list_2[j])\n",
    "        j += 1\n",
    "    return output_list\n",
    "\n",
    "# we iterate through the indices in the list to conserve the lists;\n",
    "# if we append + pop the lists, the lists would be empty after the function\n",
    "# iterating through indices, we can at least backcheck the lists or reuse "
   ]
  },
  {
   "cell_type": "code",
   "execution_count": 4,
   "id": "2cddb3a3",
   "metadata": {
    "scrolled": true
   },
   "outputs": [
    {
     "data": {
      "text/plain": [
       "[1, 2, 3, 4, 5, 6, 7, 8]"
      ]
     },
     "execution_count": 4,
     "metadata": {},
     "output_type": "execute_result"
    }
   ],
   "source": [
    "merge_helper([1, 3, 7, 8], [2, 4, 5, 6])"
   ]
  },
  {
   "cell_type": "code",
   "execution_count": 9,
   "id": "44f15ce6",
   "metadata": {},
   "outputs": [],
   "source": [
    "def merge_sort(full_list):\n",
    "    if len(full_list) == 1:\n",
    "        return full_list\n",
    "    midpoint = len(full_list) // 2\n",
    "    left, right = full_list[:midpoint], full_list[midpoint:]\n",
    "    return merge_helper( merge_sort(left),\n",
    "        merge_sort(right) )\n",
    "    \n"
   ]
  },
  {
   "cell_type": "code",
   "execution_count": 11,
   "id": "0823b49a",
   "metadata": {
    "scrolled": true
   },
   "outputs": [
    {
     "data": {
      "text/plain": [
       "[1, 2, 3, 4, 5, 6, 7, 8, 9, 9999, 9919191]"
      ]
     },
     "execution_count": 11,
     "metadata": {},
     "output_type": "execute_result"
    }
   ],
   "source": [
    "merge_sort([1, 9, 9999, 9919191, 3, 7, 8, 2, 4, 5, 6])"
   ]
  },
  {
   "cell_type": "markdown",
   "id": "137d5ba0",
   "metadata": {},
   "source": [
    "### 7.5.1 `Merge Sort` Algorithm Complexity\n",
    "\n",
    "- **Space Complexity** -- O(n)\n",
    "    - From the full list of n items, \n",
    "    - We create a copy as n lists of 1 item --> O(n) space complexity\n",
    "    - Other algorithms are sorted in-place, hence O(1); we need more space to create a copy\n",
    "\n",
    "- **Time Complexity** -- O(n log n)\n",
    "    - the splitting function in merge_sort has O(log n) time complexity;\n",
    "        - because we divide & conquer, it takes O(log n) e.g. 3 steps to split list of 8 items; 4 steps to split 16 items \n",
    "    - the merge function in merge_helper has O(n) complexity, because we have to iterate through each object \n",
    "    - the two combined algorithms have O(n log n) complexity; \n",
    "        - this is the most efficient sorting algorithm\n",
    "        \n",
    "        \n",
    "---------------------------------------"
   ]
  },
  {
   "cell_type": "markdown",
   "id": "f217c128",
   "metadata": {},
   "source": [
    "## 7.6  `Quick Sort` Algorithm\n",
    "- Quick Sort divides a list into three;\n",
    "    - the Pivot Point (here, the first item)\n",
    "    - Less Than (items less than pivot point)\n",
    "    - Greater Than (items greater than pivot point)\n",
    "- It does this with a three-pointer solution; \n",
    "    - Pivot Point (\"pivot index\")\n",
    "    - Last Item Smaller Than / One Before First Item Greater Than (\"Swap Index\")\n",
    "    - Iterating pointer location (\"i\")\n",
    "    \n",
    "- Consider the list [4, 6, 1, 7, 3, 2, 5]:\n",
    "    0. First item in the list is the pivot point, 4.\n",
    "\n",
    "    1. Imagine 4 lists; [4] + [Less than] + [Greater Than] + [What's left]. \n",
    "       Currently, it looks like [4] [] [] [6, 1, 7, 3, 2, 5]\n",
    "\n",
    "    2. 6 is greater than so it's sorted into the greater than list;\n",
    "       [4] [] [6] [1, 7, 3, 2, 5]\n",
    "\n",
    "    3. 1 is less than 4 so it's sorted into the less-than list\n",
    "       [4] [1] [6] [7, 3, 2, 5]\n",
    "       (this is done by swapping 6 & 1)\n",
    "\n",
    "    4. 7 is more than 4, so it stays where it is (in the greater-than bracket)\n",
    "       [4] [1] [6, 7] [3, 2, 5]\n",
    "\n",
    "    5. 3 is less than 4, so it swaps with the LIST/OBFIGT +1, 6\n",
    "       [4] [1, 3] [7, 6] [2, 5]\n",
    "    \n",
    "    6. 2 is less than 4, so it swaps with the LIST/OBFIGT +1, 7\n",
    "       [4] [1, 3, 2]  [6, 7] [5]\n",
    "       \n",
    "    7. 5 stays where it is, because 5 > 4\n",
    "    \n",
    "    8. Now that we've iterated through the list, we swap Pivot Point with the LIST/OBFIGT (without advancing one) -- which is 2\n",
    "       [2, 1, 3] [4] [6, 7, 5]\n",
    "       \n",
    "    9. We then break the list at the pivot point and quicksort both ends to recombine, but that is a separate function; so we return the index.\n",
    "   \n",
    "\n",
    "- Three Pointer Solution:\n",
    "    - Pivot Point: stays at the first index\n",
    "    - Iterating Pointer i : iterates through the list \n",
    "    - Swap Index LIST / OBFIGT:\n",
    "        - serves as a \"bookmark\" between Less Than and Greater Than lists; points to the last element of Less Than OR the element before Greater Than\n",
    "        - at the start, points to pivot point as the first item\n",
    "\n",
    "\n",
    "\n",
    "---------------------\n"
   ]
  },
  {
   "cell_type": "code",
   "execution_count": 36,
   "id": "c4de4902",
   "metadata": {},
   "outputs": [],
   "source": [
    "def list_swap(my_list, index1, index2):\n",
    "    temp = my_list[index1]\n",
    "    my_list[index1] = my_list[index2]\n",
    "    my_list[index2] = temp\n",
    "    \n",
    "def pivot_helper(my_list, pivot_index, end_index):\n",
    "    swap_index, i = pivot_index, pivot_index + 1\n",
    "    for i in range(pivot_index + 1, end_index + 1):\n",
    "        if my_list[i] < my_list[pivot_index]:\n",
    "            swap_index += 1\n",
    "            list_swap(my_list, swap_index, i)\n",
    "    list_swap(my_list, swap_index, pivot_index)\n",
    "    # print(my_list)\n",
    "    return swap_index"
   ]
  },
  {
   "cell_type": "code",
   "execution_count": 25,
   "id": "59ac3377",
   "metadata": {
    "scrolled": false
   },
   "outputs": [
    {
     "name": "stdout",
     "output_type": "stream",
     "text": [
      "[2, 1, 3, 4, 6, 7, 5]\n"
     ]
    },
    {
     "data": {
      "text/plain": [
       "3"
      ]
     },
     "execution_count": 25,
     "metadata": {},
     "output_type": "execute_result"
    }
   ],
   "source": [
    "test_list = [4, 6, 1, 7, 3, 2, 5]\n",
    "\n",
    "pivot_helper(test_list, 0, len(test_list)-1)"
   ]
  },
  {
   "cell_type": "code",
   "execution_count": 33,
   "id": "17450a1c",
   "metadata": {},
   "outputs": [],
   "source": [
    "def quick_sort_helper(my_list, left_index, right_index):\n",
    "    print(my_list)\n",
    "    if left_index < right_index: \n",
    "        pivot_index = pivot_helper(my_list, left_index, right_index) # run \n",
    "        quick_sort_helper(my_list, left_index, pivot_index - 1)\n",
    "        quick_sort_helper(my_list, pivot_index + 1, right_index)\n",
    "    return my_list\n",
    "\n",
    "def quick_sort(my_list):\n",
    "    return quick_sort_helper(my_list, 0, len(my_list)-1)"
   ]
  },
  {
   "cell_type": "code",
   "execution_count": 37,
   "id": "9ad306d6",
   "metadata": {
    "scrolled": true
   },
   "outputs": [
    {
     "name": "stdout",
     "output_type": "stream",
     "text": [
      "[4, 6, 1, 7, 3, 2, 5]\n",
      "[2, 1, 3, 4, 6, 7, 5]\n",
      "[1, 2, 3, 4, 6, 7, 5]\n",
      "[1, 2, 3, 4, 6, 7, 5]\n",
      "[1, 2, 3, 4, 6, 7, 5]\n",
      "[1, 2, 3, 4, 5, 6, 7]\n",
      "[1, 2, 3, 4, 5, 6, 7]\n"
     ]
    },
    {
     "data": {
      "text/plain": [
       "[1, 2, 3, 4, 5, 6, 7]"
      ]
     },
     "execution_count": 37,
     "metadata": {},
     "output_type": "execute_result"
    }
   ],
   "source": [
    "test_list = [4, 6, 1, 7, 3, 2, 5]\n",
    "\n",
    "quick_sort(test_list)"
   ]
  },
  {
   "cell_type": "markdown",
   "id": "3ddce49c",
   "metadata": {},
   "source": [
    "### 7.6.1 `Quick Sort` Algorithm Complexity\n",
    "\n",
    "- **Space Complexity** -- O(1)\n",
    "    - We create one copy of temp, and list rearrangement is performed inplace\n",
    "    - So Space is O(1)\n",
    "\n",
    "- **Time Complexity** -- O(n log n)\n",
    "    - first function is pivot_helper, which iterates through the list: O(n)\n",
    "    - List swap is constant time, O(1) \n",
    "    - quick_sort_helper is divide-and-conquer, so O(log n)...for best and average case\n",
    "    - If data is already sorted, e.g. [1, 2, 3, 4, 5, 6, 7] ...\n",
    "        - quick_sort_helper splits into left and right, but left is already sorted\n",
    "        - the qsh still runs on all items in the right, recursively...\n",
    "        - Worst Case Scenario of O(n^2)\n",
    "    - if semi-sorted data, Insertion Sort is better)"
   ]
  },
  {
   "cell_type": "markdown",
   "id": "4d685d67",
   "metadata": {},
   "source": [
    "## 7.7  `Depth-First-Search` and `Breadth-First-Search` Tree Traversal Algorithm\n",
    "\n",
    "- NB: \n",
    "    - although BreadthFirstSearch is a tree traversal method, it is technically a Search Strategy that applies to Graph, e.g. any Linked datastructure\n",
    "        - all trees are Graphs, but not all Graphs are trees\n",
    "    - DFS is close to pre-order traversal; \n",
    "        - DFS stops when the element is found (recursion + base case break)\n",
    "        - traversal exhausts the tree\n",
    "\n",
    "- assuming the below tree:\n",
    "\n",
    "```\n",
    "    47\n",
    "   /  \\\n",
    "  21   76\n",
    " / \\   / \\ \n",
    "18 27 52 82\n",
    "```\n",
    "\n",
    "BFS: 47 21 76 18 27 52 82\n",
    "\n",
    "DFS: 47 21 18 2 76 52 82"
   ]
  },
  {
   "cell_type": "markdown",
   "id": "e3d6fb10",
   "metadata": {},
   "source": [
    "## 7.7.1 Code for `Breadth-First-Search`\n",
    "- note that BFS is a method for Binary Trees, and therefore starts with a self\n",
    "\n"
   ]
  },
  {
   "cell_type": "code",
   "execution_count": 57,
   "id": "aebacf2e",
   "metadata": {},
   "outputs": [],
   "source": [
    "# Creating Node Class --- \n",
    "class Node:                            # initializing the node class\n",
    "    def __init__(self, value):          # creates Node-unique methods of value & next\n",
    "        self.value = value\n",
    "        self.left = None\n",
    "        self.right = None\n",
    "\n",
    "\n",
    "class BinarySearchTree:           # initializing the BST class\n",
    "    def __init__(self):           # creates Node-unique methods of value & next\n",
    "        self.root = None          #\n",
    "        \n",
    "    def insert(self, value):\n",
    "        new_node = Node(value)\n",
    "        if self.root is None:\n",
    "            self.root = new_node\n",
    "            return True\n",
    "        pointer = self.root\n",
    "        while (True):             # will keep running; escape using return\n",
    "            if new_node.value == pointer.value:\n",
    "                return False      # BST only has unique values, no duplicates\n",
    "\n",
    "            if new_node.value < pointer.value:\n",
    "                if pointer.left is None:\n",
    "                    pointer.left = new_node\n",
    "                    return True   # new_node inserted into empty, break loop\n",
    "                pointer = pointer.left\n",
    "            else:\n",
    "                if pointer.right is None:\n",
    "                    pointer.right = new_node\n",
    "                    return True \n",
    "                pointer = pointer.right\n",
    "            \n",
    "    def contains(self, value):\n",
    "       #if self.root is None:             # actually, not necessary;\n",
    "       #    return False                  # solved for while pointer is not None\n",
    "        pointer = self.root\n",
    "        while pointer is not None:\n",
    "            if pointer.value == value:\n",
    "                return True\n",
    "            elif value > pointer.value:\n",
    "                pointer = pointer.right\n",
    "            else:\n",
    "                pointer = pointer.left\n",
    "        return False\n",
    "    \n",
    "    def min_value_node(self, current_node):\n",
    "        while current_node.left is not None:\n",
    "            current_node = current_node.left\n",
    "        return current_node       \n",
    "    \n",
    "    def InOrder(self,root):\n",
    "        traversal_list = []\n",
    "        if root is not None:\n",
    "            traversal_list = self.InOrder(root.left)\n",
    "            traversal_list.append(root.value)\n",
    "            traversal_list = traversal_list + self.InOrder(root.right)\n",
    "        return traversal_list\n",
    "    \n",
    "    def InOrder(self,root):\n",
    "        traversal_list = []\n",
    "        if root is not None:\n",
    "            traversal_list = self.InOrder(root.left)\n",
    "            traversal_list.append(root.value)\n",
    "            traversal_list = traversal_list + self.InOrder(root.right)\n",
    "        return traversal_list\n",
    "        \n",
    "    def PreOrder(self,root):\n",
    "        traversal_list = []\n",
    "        if root is not None:\n",
    "            traversal_list.append(root.value)\n",
    "            traversal_list += self.PreOrder(root.left)\n",
    "            traversal_list += self.PreOrder(root.right)\n",
    "        return traversal_list\n",
    "    \n",
    "    def PostOrder(self,root):\n",
    "        traversal_list = []\n",
    "        if root is not None:\n",
    "            traversal_list = self.PostOrder(root.left)\n",
    "            traversal_list = traversal_list + self.PostOrder(root.right)\n",
    "            traversal_list.append(root.value)\n",
    "        return traversal_list\n",
    "    \n",
    "    def BreadthFirst(self,root):\n",
    "        if root is None:\n",
    "            return None\n",
    "        input_list = []\n",
    "        output_list = []\n",
    "        input_list.append(root)\n",
    "        while len(input_list) > 0:\n",
    "            node = input_list.pop(0)\n",
    "            output_list.append(node.value)\n",
    "            \n",
    "            if node.left is not None:\n",
    "                input_list.append(node.left)\n",
    "            if node.right is not None:\n",
    "                input_list.append(node.right)\n",
    "        return output_list\n",
    "\n",
    "    def BFS(self):\n",
    "        current_node = self.root\n",
    "        result_list, output_list = [], []\n",
    "        output_list.append(current_node)\n",
    "        while len(output_list) > 0:\n",
    "            node_pointer = output_list.pop(0)\n",
    "            result_list.append(node_pointer.value)\n",
    "            if node_pointer.left is not None:\n",
    "                output_list.append(node_pointer.left)\n",
    "            if node_pointer.right is not None:\n",
    "                output_list.append(node_pointer.right)\n",
    "            \n",
    "        return result_list\n",
    "            "
   ]
  },
  {
   "cell_type": "code",
   "execution_count": 63,
   "id": "f7f7e029",
   "metadata": {},
   "outputs": [
    {
     "data": {
      "text/plain": [
       "True"
      ]
     },
     "execution_count": 63,
     "metadata": {},
     "output_type": "execute_result"
    }
   ],
   "source": [
    "# Creating the tree\n",
    "#     47\n",
    "#    /  \\\n",
    "#   21   76\n",
    "#  / \\   / \\ \n",
    "# 18 27 52 82\n",
    "\n",
    "\n",
    "my_tree = BinarySearchTree()\n",
    "my_tree.insert(47)\n",
    "my_tree.insert(21)\n",
    "my_tree.insert(76)\n",
    "my_tree.insert(18)\n",
    "my_tree.insert(27)\n",
    "my_tree.insert(52)\n",
    "my_tree.insert(82)\n"
   ]
  },
  {
   "cell_type": "code",
   "execution_count": 64,
   "id": "56ed65fb",
   "metadata": {
    "scrolled": true
   },
   "outputs": [
    {
     "data": {
      "text/plain": [
       "[47, 21, 76, 18, 27, 52, 82]"
      ]
     },
     "execution_count": 64,
     "metadata": {},
     "output_type": "execute_result"
    }
   ],
   "source": [
    "my_tree.BreadthFirst(my_tree.root)"
   ]
  },
  {
   "cell_type": "code",
   "execution_count": 65,
   "id": "643eca18",
   "metadata": {
    "scrolled": false
   },
   "outputs": [
    {
     "data": {
      "text/plain": [
       "[47, 21, 76, 18, 27, 52, 82]"
      ]
     },
     "execution_count": 65,
     "metadata": {},
     "output_type": "execute_result"
    }
   ],
   "source": [
    "my_tree.BFS()"
   ]
  },
  {
   "cell_type": "markdown",
   "id": "4e4f04e9",
   "metadata": {},
   "source": [
    "## 7.7.2 Code for `Depth-First-Search` - PreOrder\n",
    "- note that DFS is a method for Binary Trees, and therefore starts with a self\n",
    "- DFS is a generalised Search strategy for Graph structures, whereas PreOrder Traversal is a Tree Traversal strategy;\n",
    "    - the outputs look similar, but --\n",
    "    - Tree Traversals by definition exhaust every node in a tree, while Searches stop when the searched-for node is found;\n",
    "    - Trees are a subset of Graphs , but not all Graphs are Trees;\n",
    "\n"
   ]
  },
  {
   "cell_type": "code",
   "execution_count": 69,
   "id": "c30ecd34",
   "metadata": {},
   "outputs": [],
   "source": [
    "# Creating Node Class --- \n",
    "class Node:                            # initializing the node class\n",
    "    def __init__(self, value):          # creates Node-unique methods of value & next\n",
    "        self.value = value\n",
    "        self.left = None\n",
    "        self.right = None\n",
    "\n",
    "\n",
    "class BinarySearchTree:           # initializing the BST class\n",
    "    def __init__(self):           # creates Node-unique methods of value & next\n",
    "        self.root = None          #\n",
    "        \n",
    "    def insert(self, value):\n",
    "        new_node = Node(value)\n",
    "        if self.root is None:\n",
    "            self.root = new_node\n",
    "            return True\n",
    "        pointer = self.root\n",
    "        while (True):             # will keep running; escape using return\n",
    "            if new_node.value == pointer.value:\n",
    "                return False      # BST only has unique values, no duplicates\n",
    "\n",
    "            if new_node.value < pointer.value:\n",
    "                if pointer.left is None:\n",
    "                    pointer.left = new_node\n",
    "                    return True   # new_node inserted into empty, break loop\n",
    "                pointer = pointer.left\n",
    "            else:\n",
    "                if pointer.right is None:\n",
    "                    pointer.right = new_node\n",
    "                    return True \n",
    "                pointer = pointer.right\n",
    "            \n",
    "    def contains(self, value):\n",
    "       #if self.root is None:             # actually, not necessary;\n",
    "       #    return False                  # solved for while pointer is not None\n",
    "        pointer = self.root\n",
    "        while pointer is not None:\n",
    "            if pointer.value == value:\n",
    "                return True\n",
    "            elif value > pointer.value:\n",
    "                pointer = pointer.right\n",
    "            else:\n",
    "                pointer = pointer.left\n",
    "        return False\n",
    "    \n",
    "    def min_value_node(self, current_node):\n",
    "        while current_node.left is not None:\n",
    "            current_node = current_node.left\n",
    "        return current_node       \n",
    "    \n",
    "    def InOrder(self,root):\n",
    "        traversal_list = []\n",
    "        if root is not None:\n",
    "            traversal_list = self.InOrder(root.left)\n",
    "            traversal_list.append(root.value)\n",
    "            traversal_list = traversal_list + self.InOrder(root.right)\n",
    "        return traversal_list\n",
    "    \n",
    "    def InOrder(self,root):\n",
    "        traversal_list = []\n",
    "        if root is not None:\n",
    "            traversal_list = self.InOrder(root.left)\n",
    "            traversal_list.append(root.value)\n",
    "            traversal_list = traversal_list + self.InOrder(root.right)\n",
    "        return traversal_list\n",
    "        \n",
    "    def PreOrder(self,root):\n",
    "        traversal_list = []\n",
    "        if root is not None:\n",
    "            traversal_list.append(root.value)\n",
    "            traversal_list += self.PreOrder(root.left)\n",
    "            traversal_list += self.PreOrder(root.right)\n",
    "        return traversal_list\n",
    "    \n",
    "    def PostOrder(self,root):\n",
    "        traversal_list = []\n",
    "        if root is not None:\n",
    "            traversal_list = self.PostOrder(root.left)\n",
    "            traversal_list = traversal_list + self.PostOrder(root.right)\n",
    "            traversal_list.append(root.value)\n",
    "        return traversal_list\n",
    "    \n",
    "    def BreadthFirst(self,root):\n",
    "        if root is None:\n",
    "            return None\n",
    "        input_list = []\n",
    "        output_list = []\n",
    "        input_list.append(root)\n",
    "        while len(input_list) > 0:\n",
    "            node = input_list.pop(0)\n",
    "            output_list.append(node.value)\n",
    "            \n",
    "            if node.left is not None:\n",
    "                input_list.append(node.left)\n",
    "            if node.right is not None:\n",
    "                input_list.append(node.right)\n",
    "        return output_list\n",
    "\n",
    "    def BFS(self):\n",
    "        current_node = self.root\n",
    "        result_list, output_list = [], []\n",
    "        output_list.append(current_node)\n",
    "        while len(output_list) > 0:\n",
    "            node_pointer = output_list.pop(0)\n",
    "            result_list.append(node_pointer.value)\n",
    "            if node_pointer.left is not None:\n",
    "                output_list.append(node_pointer.left)\n",
    "            if node_pointer.right is not None:\n",
    "                output_list.append(node_pointer.right)\n",
    "        return result_list\n",
    "\n",
    "    def DFS_preorder(self):\n",
    "        results_list = []\n",
    "        def traverse(current_node):\n",
    "            results_list.append(current_node.value)\n",
    "            if current_node.left is not None:\n",
    "                traverse(current_node.left)\n",
    "            if current_node.right is not None:\n",
    "                traverse(current_node.right)\n",
    "        traverse(self.root)\n",
    "        return results_list\n",
    "            "
   ]
  },
  {
   "cell_type": "code",
   "execution_count": 70,
   "id": "0cc6edf4",
   "metadata": {},
   "outputs": [
    {
     "data": {
      "text/plain": [
       "True"
      ]
     },
     "execution_count": 70,
     "metadata": {},
     "output_type": "execute_result"
    }
   ],
   "source": [
    "# Creating the tree\n",
    "#     47\n",
    "#    /  \\\n",
    "#   21   76\n",
    "#  / \\   / \\ \n",
    "# 18 27 52 82\n",
    "\n",
    "\n",
    "my_tree = BinarySearchTree()\n",
    "my_tree.insert(47)\n",
    "my_tree.insert(21)\n",
    "my_tree.insert(76)\n",
    "my_tree.insert(18)\n",
    "my_tree.insert(27)\n",
    "my_tree.insert(52)\n",
    "my_tree.insert(82)\n"
   ]
  },
  {
   "cell_type": "code",
   "execution_count": 71,
   "id": "56d1ae17",
   "metadata": {
    "scrolled": true
   },
   "outputs": [
    {
     "data": {
      "text/plain": [
       "[47, 21, 18, 27, 76, 52, 82]"
      ]
     },
     "execution_count": 71,
     "metadata": {},
     "output_type": "execute_result"
    }
   ],
   "source": [
    "my_tree.DFS_preorder()"
   ]
  },
  {
   "cell_type": "markdown",
   "id": "5c7ebc0a",
   "metadata": {},
   "source": [
    "## 7.7.2b Code for `Depth-First-Search` - PreOrder, PostOrder, InOrder\n",
    "- Breadth-First-Search searches by level; i.e. searches the closest nodes before going further\n",
    "- Depth-First-Search goes deep and explores the depths of each branch before proceeding\n",
    "\n",
    "\n",
    "- How to remember the various -Orders:\n",
    "    - InOrder is \"in order\": left, root, right; in the order you'd read from left to right\n",
    "    - PreOrder puts the root before the order: root, left, right\n",
    "    - PostOrder puts the root after the order: left, right, root\n",
    "    \n",
    "- For Binary Search Trees, \"InOrder\" also prints all the nodes \"In Order\" i.e. increasing numbers \n"

   ]
  },
  {
   "cell_type": "code",
   "execution_count": 74,
   "id": "a4b01504",
   "metadata": {},
   "outputs": [],
   "source": [
    "# Creating Node Class --- \n",
    "class Node:                            # initializing the node class\n",
    "    def __init__(self, value):          # creates Node-unique methods of value & next\n",
    "        self.value = value\n",
    "        self.left = None\n",
    "        self.right = None\n",
    "\n",
    "\n",
    "class BinarySearchTree:           # initializing the BST class\n",
    "    def __init__(self):           # creates Node-unique methods of value & next\n",
    "        self.root = None          #\n",
    "        \n",
    "    def insert(self, value):\n",
    "        new_node = Node(value)\n",
    "        if self.root is None:\n",
    "            self.root = new_node\n",
    "            return True\n",
    "        pointer = self.root\n",
    "        while (True):             # will keep running; escape using return\n",
    "            if new_node.value == pointer.value:\n",
    "                return False      # BST only has unique values, no duplicates\n",
    "\n",
    "            if new_node.value < pointer.value:\n",
    "                if pointer.left is None:\n",
    "                    pointer.left = new_node\n",
    "                    return True   # new_node inserted into empty, break loop\n",
    "                pointer = pointer.left\n",
    "            else:\n",
    "                if pointer.right is None:\n",
    "                    pointer.right = new_node\n",
    "                    return True \n",
    "                pointer = pointer.right\n",
    "            \n",
    "    def contains(self, value):\n",
    "       #if self.root is None:             # actually, not necessary;\n",
    "       #    return False                  # solved for while pointer is not None\n",
    "        pointer = self.root\n",
    "        while pointer is not None:\n",
    "            if pointer.value == value:\n",
    "                return True\n",
    "            elif value > pointer.value:\n",
    "                pointer = pointer.right\n",
    "            else:\n",
    "                pointer = pointer.left\n",
    "        return False\n",
    "    \n",
    "    def min_value_node(self, current_node):\n",
    "        while current_node.left is not None:\n",
    "            current_node = current_node.left\n",
    "        return current_node       \n",
    "    \n",
    "    def InOrder(self,root):\n",
    "        traversal_list = []\n",
    "        if root is not None:\n",
    "            traversal_list = self.InOrder(root.left)\n",
    "            traversal_list.append(root.value)\n",
    "            traversal_list = traversal_list + self.InOrder(root.right)\n",
    "        return traversal_list\n",
    "    \n",
    "    def InOrder(self,root):\n",
    "        traversal_list = []\n",
    "        if root is not None:\n",
    "            traversal_list = self.InOrder(root.left)\n",
    "            traversal_list.append(root.value)\n",
    "            traversal_list = traversal_list + self.InOrder(root.right)\n",
    "        return traversal_list\n",
    "        \n",
    "    def PreOrder(self,root):\n",
    "        traversal_list = []\n",
    "        if root is not None:\n",
    "            traversal_list.append(root.value)\n",
    "            traversal_list += self.PreOrder(root.left)\n",
    "            traversal_list += self.PreOrder(root.right)\n",
    "        return traversal_list\n",
    "    \n",
    "    def PostOrder(self,root):\n",
    "        traversal_list = []\n",
    "        if root is not None:\n",
    "            traversal_list = self.PostOrder(root.left)\n",
    "            traversal_list = traversal_list + self.PostOrder(root.right)\n",
    "            traversal_list.append(root.value)\n",
    "        return traversal_list\n",
    "    \n",
    "    def BreadthFirst(self,root):\n",
    "        if root is None:\n",
    "            return None\n",
    "        input_list = []\n",
    "        output_list = []\n",
    "        input_list.append(root)\n",
    "        while len(input_list) > 0:\n",
    "            node = input_list.pop(0)\n",
    "            output_list.append(node.value)\n",
    "            \n",
    "            if node.left is not None:\n",
    "                input_list.append(node.left)\n",
    "            if node.right is not None:\n",
    "                input_list.append(node.right)\n",
    "        return output_list\n",
    "\n",
    "    def BFS(self):\n",
    "        current_node = self.root\n",
    "        result_list, output_list = [], []\n",
    "        output_list.append(current_node)\n",
    "        while len(output_list) > 0:\n",
    "            node_pointer = output_list.pop(0)\n",
    "            result_list.append(node_pointer.value)\n",
    "            if node_pointer.left is not None:\n",
    "                output_list.append(node_pointer.left)\n",
    "            if node_pointer.right is not None:\n",
    "                output_list.append(node_pointer.right)\n",
    "        return result_list\n",
    "\n",
    "    def DFS_preorder(self):\n",
    "        results_list = []\n",
    "        def traverse(current_node):\n",
    "            results_list.append(current_node.value)\n",
    "            if current_node.left is not None:\n",
    "                traverse(current_node.left)\n",
    "            if current_node.right is not None:\n",
    "                traverse(current_node.right)\n",
    "        traverse(self.root)\n",
    "        return results_list\n",
    "    \n",
    "    def DFS_postorder(self):\n",
    "        results_list = []\n",
    "        def traverse(current_node):\n",
    "            if current_node.left is not None:\n",
    "                traverse(current_node.left)\n",
    "            if current_node.right is not None:\n",
    "                traverse(current_node.right)\n",
    "            results_list.append(current_node.value)\n",
    "        traverse(self.root)\n",
    "        return results_list\n",
    "            \n",
    "    def DFS_inorder(self):\n",
    "        results_list = []\n",
    "        def traverse(current_node):\n",
    "            if current_node.left is not None:\n",
    "                traverse(current_node.left)\n",
    "            results_list.append(current_node.value)\n",
    "            if current_node.right is not None:\n",
    "                traverse(current_node.right)\n",
    "            \n",
    "        traverse(self.root)\n",
    "        return results_list\n",
    "            "
   ]
  },
  {
   "cell_type": "code",
   "execution_count": 75,
   "id": "d622e7ba",
   "metadata": {},
   "outputs": [
    {
     "data": {
      "text/plain": [
       "True"
      ]
     },
     "execution_count": 75,
     "metadata": {},
     "output_type": "execute_result"
    }
   ],
   "source": [
    "# Creating the tree\n",
    "#     47\n",
    "#    /  \\\n",
    "#   21   76\n",
    "#  / \\   / \\ \n",
    "# 18 27 52 82\n",
    "\n",
    "\n",
    "my_tree = BinarySearchTree()\n",
    "my_tree.insert(47)\n",
    "my_tree.insert(21)\n",
    "my_tree.insert(76)\n",
    "my_tree.insert(18)\n",
    "my_tree.insert(27)\n",
    "my_tree.insert(52)\n",
    "my_tree.insert(82)\n"
   ]
  },
  {
   "cell_type": "code",
   "execution_count": 78,
   "id": "67d22dbb",
   "metadata": {
    "scrolled": true
   },
   "outputs": [
    {
     "name": "stdout",
     "output_type": "stream",
     "text": [
      "PreOrder:  [47, 21, 18, 27, 76, 52, 82]\n",
      "PostOrder:  [18, 27, 21, 52, 82, 76, 47]\n",
      "InOrder:  [18, 21, 27, 47, 52, 76, 82]\n",
      "--- --- --- Check --- --- ---\n",
      "PreOrder:  [47, 21, 18, 27, 76, 52, 82]\n",
      "PostOrder:  [18, 27, 21, 52, 82, 76, 47]\n",
      "InOrder:  [18, 21, 27, 47, 52, 76, 82]\n"
     ]
    }
   ],
   "source": [
    "print(\"PreOrder: \", my_tree.DFS_preorder())\n",
    "print(\"PostOrder: \", my_tree.DFS_postorder())\n",
    "print(\"InOrder: \", my_tree.DFS_inorder())\n",
    "print(\"--- --- --- Check --- --- ---\")\n",
    "print(\"PreOrder: \", my_tree.PreOrder(my_tree.root))\n",
    "print(\"PostOrder: \", my_tree.PostOrder(my_tree.root))\n",
    "print(\"InOrder: \", my_tree.InOrder(my_tree.root))"
   ]
  },
  {
   "cell_type": "code",
   "execution_count": 79,
   "id": "c8073382",
   "metadata": {},
   "outputs": [],
   "source": []
  }
 ],
 "metadata": {
  "kernelspec": {
   "display_name": "Python 3 (ipykernel)",
   "language": "python",
   "name": "python3"
  },
  "language_info": {
   "codemirror_mode": {
    "name": "ipython",
    "version": 3
   },
   "file_extension": ".py",
   "mimetype": "text/x-python",
   "name": "python",
   "nbconvert_exporter": "python",
   "pygments_lexer": "ipython3",
   "version": "3.9.12"
  }
 },
 "nbformat": 4,
 "nbformat_minor": 5
}
