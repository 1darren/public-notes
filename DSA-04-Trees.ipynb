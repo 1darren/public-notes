{
 "cells": [
  {
   "cell_type": "markdown",
   "id": "98ea0ecd",
   "metadata": {},
   "source": [
    "# Notes for Tree\n",
    "* Trees are like LinkedLists;\n",
    "    - where LinkedList nodes point only to next;\n",
    "    - Trees point `left` and `right`"
   ]
  },
  {
   "cell_type": "markdown",
   "id": "3d49632f",
   "metadata": {},
   "source": [
    "## The Tree\n",
    "- Trees can be Full;\n",
    "    - `Full` Trees: every Node either points to 2 nodes or 0 nodes\n",
    "- Full Trees can also be Perfect;\n",
    "    - `Perfect` Trees have nodes which are completely filled (e.g. all point at 2 nodes) at every level\n",
    "- `Complete` Trees are filled from left to right;\n",
    "    - it's possible for a tree to be Complete but not Full or Perfect, e.g. \n",
    "        - 4                       <-- top level of tree\n",
    "        - 3, 23, \n",
    "        - 12, 7, 147, 27          <-- up to this level, `Full` and `Perfect`\n",
    "        - 8                       <-- bottom level of tree filled from left, it's `Complete`\n",
    "        \n",
    "        \n",
    "        \n",
    "- top node is called Parent;\n",
    "     - `left` and `right` are called `Child` nodes\n",
    "     - `Child` nodes of the same parents are `siblings`;\n",
    "- every tree node can only have 1 `Parent`\n",
    "- `Child` nodes can also be `Parents`; but if a node has no `Child` nodes, it is called a `Leaf`\n",
    "    - i.e. end of the branch"
   ]
  },
  {
   "cell_type": "markdown",
   "id": "74f6bf67",
   "metadata": {},
   "source": [
    "### 4.0 Tree Constructor & Node class"
   ]
  },
  {
   "cell_type": "code",
   "execution_count": null,
   "id": "b70c0b3d",
   "metadata": {},
   "outputs": [],
   "source": [
    "# Creating Node Class --- similis as LinkedList\n",
    "class Node:                            # initializing the node class\n",
    "    def __init__(self, value):          # creates Node-unique methods of value & next\n",
    "        self.value = value\n",
    "        self.left = None\n",
    "        self.right = None\n"
   ]
  },
  {
   "cell_type": "code",
   "execution_count": null,
   "id": "77d7b928",
   "metadata": {},
   "outputs": [],
   "source": []
  }
 ],
 "metadata": {
  "kernelspec": {
   "display_name": "Python 3 (ipykernel)",
   "language": "python",
   "name": "python3"
  },
  "language_info": {
   "codemirror_mode": {
    "name": "ipython",
    "version": 3
   },
   "file_extension": ".py",
   "mimetype": "text/x-python",
   "name": "python",
   "nbconvert_exporter": "python",
   "pygments_lexer": "ipython3",
   "version": "3.7.11"
  }
 },
 "nbformat": 4,
 "nbformat_minor": 5
}
