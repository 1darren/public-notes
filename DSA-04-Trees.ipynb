{
 "cells": [
  {
   "cell_type": "markdown",
   "id": "98ea0ecd",
   "metadata": {},
   "source": [
    "# Notes for Tree\n",
    "* Trees are like LinkedLists;\n",
    "    - where LinkedList nodes point only to next;\n",
    "    - Trees point `left` and `right`"
   ]
  },
  {
   "cell_type": "markdown",
   "id": "3d49632f",
   "metadata": {},
   "source": [
    "## The Tree\n",
    "- Trees can be Full;\n",
    "    - `Full` Trees: every Node either points to 2 nodes or 0 nodes\n",
    "- Full Trees can also be Perfect;\n",
    "    - `Perfect` Trees have nodes which are completely filled (e.g. all point at 2 nodes) at every level\n",
    "- `Complete` Trees are filled from left to right;\n",
    "    - it's possible for a tree to be Complete but not Full or Perfect, e.g. \n",
    "        - 4                       <-- top level of tree\n",
    "        - 3, 23, \n",
    "        - 12, 7, 147, 27          <-- up to this level, `Full` and `Perfect`\n",
    "        - 8                       <-- bottom level of tree filled from left, it's `Complete`\n",
    "        \n",
    "        \n",
    "        \n",
    "- top node is called Parent;\n",
    "     - `left` and `right` are called `Child` nodes\n",
    "     - `Child` nodes of the same parents are `siblings`;\n",
    "- every tree node can only have 1 `Parent`\n",
    "- `Child` nodes can also be `Parents`; but if a node has no `Child` nodes, it is called a `Leaf`\n",
    "    - i.e. end of the branch"
   ]
  },
  {
   "cell_type": "markdown",
   "id": "74f6bf67",
   "metadata": {},
   "source": [
    "### 4.0 Tree Constructor & Node class"
   ]
  },
  {
   "cell_type": "code",
   "execution_count": 113,
   "id": "b70c0b3d",
   "metadata": {},
   "outputs": [],
   "source": [
    "# Creating Node Class --- similis as LinkedList\n",
    "class Node:                            # initializing the node class\n",
    "    def __init__(self, value):          # creates Node-unique methods of value & next\n",
    "        self.value = value\n",
    "        self.left = None\n",
    "        self.right = None\n"
   ]
  },
  {
   "cell_type": "markdown",
   "id": "03cf0c51",
   "metadata": {},
   "source": [
    "### 4.1 Binary Search Tree\n"
   ]
  },
  {
   "cell_type": "markdown",
   "id": "8ee25131",
   "metadata": {},
   "source": [
    "- Consider a Parent & Child Node in BST\n",
    "    - if Child > Parent, it goes on the `right`\n",
    "    - if Child < Parent, it goes on the `left`\n",
    "    - e.g. for 2 nodes, 47 & 76;\n",
    "        - 47.right = 76 OR\n",
    "        - 76.left = 47\n",
    "- now consider 47.right = 76 and add 52\n",
    "    1. 52 > 47, so it must go on the right\n",
    "    2. but 47.right = 76, so now compared 52 and 76\n",
    "    3. 52 < 76, so 76.left = 52\n",
    "- now add 21\n",
    "    1. 21 < 47, so 47.left = 21\n",
    "- now try with 82, 18, 27\n",
    "    - your output should be (\n",
    "                47\n",
    "            , (21, 76)\n",
    "        , ( (18, 27), (52, 82))\n",
    "                            )\n",
    "    \n",
    "- Properties of BST\n",
    "    - For any node, any node below+right will be greater than that node\n",
    "    - Any node below+left will be less than that node"
   ]
  },
  {
   "cell_type": "markdown",
   "id": "0dc052ff",
   "metadata": {},
   "source": [
    "### BST Big O\n",
    "- Consider BST of (47);\n",
    "    - size = 2^1 - 1 == 2\n",
    "- Conssider BST of (47, (21, 76))\n",
    "    - size = 2^2 - 1 == 3\n",
    "- Consider BST of (47, (21, 76), ( (18,27),(52, 82)) ) \n",
    "    - size = 2^3 - 1 = 7\n",
    "- Therefore for a perfect tree of n depth, size = (2^n - 1) nodes\n",
    "    - by LLN, approximates to 2^n nodes \n",
    "    \n",
    "    \n",
    "- to search for a number on the nth level, it takes n steps;\n",
    "    - for add/search/remove, \n",
    "- BST usually has Big O of O (log n) --> search and conquer algo\n",
    "    - however, what if the search is for the biggest number consistently?\n",
    "    - a tree that never forks is really a LinkedList -> Big O of O(n)\n",
    "    - but this is only in one single worst-case-scenario for a very unusual tree\n",
    "    \n",
    "Therefore, BST has O (log n) for `lookup()`, `insert()` and `remove()`\n",
    "\n",
    "\n",
    "### Comparing BST with LL\n",
    "- `insert()` is faster for LL because just append to the end, O(1) vs O(log n) for BST\n",
    "- `remove()` and `lookup()` is still O(log n) for BST but is O(n) for LL\n",
    "- this is also true for Lists & Linked Lists\n",
    "\n",
    "- no one datastructure is perfect for every situation;\n",
    "    - LL is better for adding information without dropping\n",
    "    - BST is better for lookup, modification & research"
   ]
  },
  {
   "cell_type": "markdown",
   "id": "b8050fc0",
   "metadata": {},
   "source": [
    "### 4.2 BST  & Insert"
   ]
  },
  {
   "cell_type": "code",
   "execution_count": 29,
   "id": "b9af274b",
   "metadata": {},
   "outputs": [],
   "source": [
    "# Creating Node Class --- similis as LinkedList\n",
    "class Node:                            # initializing the node class\n",
    "    def __init__(self, value):          # creates Node-unique methods of value & next\n",
    "        self.value = value\n",
    "        self.left = None\n",
    "        self.right = None\n",
    "        \n",
    "# Conventional BST Construction:\n",
    "# Conventional BST can be created with an initial node\n",
    "# The code would look like this\n",
    "# class BinarySearchTree:                 # initializing the BST class\n",
    "#     def __init__(self, value):          # creates Node-unique methods of value & next\n",
    "#         new_node = Node(value)\n",
    "#         self.root = new_node            # creates root, or head, to point to tree\n",
    "\n",
    "\n",
    "# But in this instance, we will create an empty tree and insert Nodes\n",
    "# so, here's how to initialise an empty BST\n",
    "\n",
    "class BinarySearchTree:           # initializing the BST class\n",
    "    def __init__(self):           # creates Node-unique methods of value & next\n",
    "        self.root = None          #\n",
    "        \n",
    "    def insert(self, value):\n",
    "        new_node = Node(value)\n",
    "        if self.root is None:\n",
    "            self.root = new_node\n",
    "            return True\n",
    "        pointer = self.root\n",
    "        while (True):             # will keep running; escape using return\n",
    "            if new_node.value == pointer.value:\n",
    "                return False      # BST only has unique values, no duplicates\n",
    "\n",
    "            if new_node.value < pointer.value:\n",
    "                if pointer.left is None:\n",
    "                    pointer.left = new_node\n",
    "                    return True   # new_node inserted into empty, break loop\n",
    "                pointer = pointer.left\n",
    "            else:\n",
    "                if pointer.right is None:\n",
    "                    pointer.right = new_node\n",
    "                    return True \n",
    "                pointer = pointer.right\n",
    "            \n",
    "    \n",
    "    \n",
    "my_tree = BinarySearchTree()\n",
    "\n"
   ]
  },
  {
   "cell_type": "code",
   "execution_count": 37,
   "id": "77d7b928",
   "metadata": {},
   "outputs": [
    {
     "name": "stdout",
     "output_type": "stream",
     "text": [
      "<__main__.BinarySearchTree object at 0x0000022FC0872848>\n"
     ]
    }
   ],
   "source": [
    "my_tree = BinarySearchTree()\n",
    "my_tree.insert(2)\n",
    "print(my_tree)"
   ]
  },
  {
   "cell_type": "code",
   "execution_count": 38,
   "id": "66e29f6d",
   "metadata": {},
   "outputs": [
    {
     "name": "stdout",
     "output_type": "stream",
     "text": [
      "2\n",
      "1\n",
      "3\n"
     ]
    }
   ],
   "source": [
    "my_tree.insert(1)\n",
    "my_tree.insert(3)\n",
    "\n",
    "print(my_tree.root.value)\n",
    "print(my_tree.root.left.value)\n",
    "print(my_tree.root.right.value)\n",
    "\n",
    "# expecting (\n",
    "#         2, \n",
    "#     (1, 3)\n",
    "#         )"
   ]
  },
  {
   "cell_type": "code",
   "execution_count": 41,
   "id": "19072f4d",
   "metadata": {
    "scrolled": true
   },
   "outputs": [
    {
     "name": "stdout",
     "output_type": "stream",
     "text": [
      "2\n",
      "1\n",
      "3\n",
      "-2\n",
      "1.5\n",
      "2.3\n",
      "4\n"
     ]
    }
   ],
   "source": [
    "my_tree.insert(-2)\n",
    "my_tree.insert(1.5)\n",
    "my_tree.insert(4)\n",
    "my_tree.insert(2.3)\n",
    "\n",
    "\n",
    "print(my_tree.root.value)\n",
    "print(my_tree.root.left.value)\n",
    "print(my_tree.root.right.value)\n",
    "print(my_tree.root.left.left.value)\n",
    "print(my_tree.root.left.right.value)\n",
    "print(my_tree.root.right.left.value)\n",
    "print(my_tree.root.right.right.value)\n",
    "\n",
    "\n",
    "# # expecting (\n",
    "#         2, \n",
    "#     (1, 3), \n",
    "#     ((-2, 1.5), (2.3, 4)\n",
    "#         )"
   ]
  },
  {
   "cell_type": "markdown",
   "id": "898f38fe",
   "metadata": {},
   "source": [
    "### 4.3 BST Contains"
   ]
  },
  {
   "cell_type": "code",
   "execution_count": 70,
   "id": "11ec8c2e",
   "metadata": {},
   "outputs": [],
   "source": [
    "# Creating Node Class --- similis as LinkedList\n",
    "class Node:                            # initializing the node class\n",
    "    def __init__(self, value):          # creates Node-unique methods of value & next\n",
    "        self.value = value\n",
    "        self.left = None\n",
    "        self.right = None\n",
    "        \n",
    "# Conventional BST Construction:\n",
    "# Conventional BST can be created with an initial node\n",
    "# The code would look like this\n",
    "# class BinarySearchTree:                 # initializing the BST class\n",
    "#     def __init__(self, value):          # creates Node-unique methods of value & next\n",
    "#         new_node = Node(value)\n",
    "#         self.root = new_node            # creates root, or head, to point to tree\n",
    "\n",
    "\n",
    "# But in this instance, we will create an empty tree and insert Nodes\n",
    "# so, here's how to initialise an empty BST\n",
    "\n",
    "class BinarySearchTree:           # initializing the BST class\n",
    "    def __init__(self):           # creates Node-unique methods of value & next\n",
    "        self.root = None          #\n",
    "        \n",
    "    def insert(self, value):\n",
    "        new_node = Node(value)\n",
    "        if self.root is None:\n",
    "            self.root = new_node\n",
    "            return True\n",
    "        pointer = self.root\n",
    "        while (True):             # will keep running; escape using return\n",
    "            if new_node.value == pointer.value:\n",
    "                return False      # BST only has unique values, no duplicates\n",
    "\n",
    "            if new_node.value < pointer.value:\n",
    "                if pointer.left is None:\n",
    "                    pointer.left = new_node\n",
    "                    return True   # new_node inserted into empty, break loop\n",
    "                pointer = pointer.left\n",
    "            else:\n",
    "                if pointer.right is None:\n",
    "                    pointer.right = new_node\n",
    "                    return True \n",
    "                pointer = pointer.right\n",
    "            \n",
    "    def contains(self, value):\n",
    "       #if self.root is None:             # actually, not necessary;\n",
    "       #    return False                  # solved for while pointer is not None\n",
    "        pointer = self.root\n",
    "        while pointer is not None:\n",
    "            if pointer.value == value:\n",
    "                return True\n",
    "            elif value > pointer.value:\n",
    "                pointer = pointer.right\n",
    "            else:\n",
    "                pointer = pointer.left\n",
    "        return False\n",
    "    \n",
    "my_tree = BinarySearchTree()\n",
    "\n"
   ]
  },
  {
   "cell_type": "code",
   "execution_count": 71,
   "id": "e0fc2a36",
   "metadata": {},
   "outputs": [
    {
     "name": "stdout",
     "output_type": "stream",
     "text": [
      "<__main__.BinarySearchTree object at 0x0000022FC0857188>\n"
     ]
    }
   ],
   "source": [
    "my_tree = BinarySearchTree()\n",
    "my_tree.insert(47)\n",
    "my_tree.insert(21)\n",
    "my_tree.insert(76)\n",
    "my_tree.insert(18)\n",
    "my_tree.insert(27)\n",
    "my_tree.insert(52)\n",
    "my_tree.insert(85)\n",
    "print(my_tree)\n"
   ]
  },
  {
   "cell_type": "code",
   "execution_count": 73,
   "id": "ac8e2eca",
   "metadata": {
    "scrolled": true
   },
   "outputs": [
    {
     "data": {
      "text/plain": [
       "False"
      ]
     },
     "execution_count": 73,
     "metadata": {},
     "output_type": "execute_result"
    }
   ],
   "source": [
    "my_tree.contains(17)"
   ]
  },
  {
   "cell_type": "markdown",
   "id": "3c3d71ba",
   "metadata": {},
   "source": [
    "### 4.4 BST Minimum Value"
   ]
  },
  {
   "cell_type": "code",
   "execution_count": 99,
   "id": "46a53c54",
   "metadata": {},
   "outputs": [
    {
     "data": {
      "text/plain": [
       "True"
      ]
     },
     "execution_count": 99,
     "metadata": {},
     "output_type": "execute_result"
    }
   ],
   "source": [
    "# Creating Node Class --- similis as LinkedList\n",
    "class Node:                            # initializing the node class\n",
    "    def __init__(self, value):          # creates Node-unique methods of value & next\n",
    "        self.value = value\n",
    "        self.left = None\n",
    "        self.right = None\n",
    "        \n",
    "# Conventional BST Construction:\n",
    "# Conventional BST can be created with an initial node\n",
    "# The code would look like this\n",
    "# class BinarySearchTree:                 # initializing the BST class\n",
    "#     def __init__(self, value):          # creates Node-unique methods of value & next\n",
    "#         new_node = Node(value)\n",
    "#         self.root = new_node            # creates root, or head, to point to tree\n",
    "\n",
    "\n",
    "# But in this instance, we will create an empty tree and insert Nodes\n",
    "# so, here's how to initialise an empty BST\n",
    "\n",
    "class BinarySearchTree:           # initializing the BST class\n",
    "    def __init__(self):           # creates Node-unique methods of value & next\n",
    "        self.root = None          #\n",
    "        \n",
    "    def insert(self, value):\n",
    "        new_node = Node(value)\n",
    "        if self.root is None:\n",
    "            self.root = new_node\n",
    "            return True\n",
    "        pointer = self.root\n",
    "        while (True):             # will keep running; escape using return\n",
    "            if new_node.value == pointer.value:\n",
    "                return False      # BST only has unique values, no duplicates\n",
    "\n",
    "            if new_node.value < pointer.value:\n",
    "                if pointer.left is None:\n",
    "                    pointer.left = new_node\n",
    "                    return True   # new_node inserted into empty, break loop\n",
    "                pointer = pointer.left\n",
    "            else:\n",
    "                if pointer.right is None:\n",
    "                    pointer.right = new_node\n",
    "                    return True \n",
    "                pointer = pointer.right\n",
    "            \n",
    "    def contains(self, value):\n",
    "       #if self.root is None:             # actually, not necessary;\n",
    "       #    return False                  # solved for while pointer is not None\n",
    "        pointer = self.root\n",
    "        while pointer is not None:\n",
    "            if pointer.value == value:\n",
    "                return True\n",
    "            elif value > pointer.value:\n",
    "                pointer = pointer.right\n",
    "            else:\n",
    "                pointer = pointer.left\n",
    "        return False\n",
    "    \n",
    "    def min_value_node(self, current_node):\n",
    "        while current_node.left is not None:\n",
    "            current_node = current_node.left\n",
    "        return current_node               # expecting to return node, not value\n",
    "\n",
    "my_tree = BinarySearchTree()\n",
    "my_tree.insert(47)\n",
    "my_tree.insert(21)\n",
    "my_tree.insert(76)\n",
    "my_tree.insert(18)\n",
    "my_tree.insert(27)\n",
    "my_tree.insert(52)\n",
    "my_tree.insert(85)\n"
   ]
  },
  {
   "cell_type": "code",
   "execution_count": 103,
   "id": "9b8b387c",
   "metadata": {},
   "outputs": [
    {
     "name": "stdout",
     "output_type": "stream",
     "text": [
      "18\n"
     ]
    }
   ],
   "source": [
    "print(my_tree.min_value_node(my_tree.root).value)\n",
    "# expected 18\n",
    "\n",
    "# NB: you cannot pass it an integer/a number, since it is not a tree-node\n",
    "# instead, must pass directions via my_tree.root.left.right etc etc"
   ]
  },
  {
   "cell_type": "code",
   "execution_count": 101,
   "id": "da316f15",
   "metadata": {},
   "outputs": [
    {
     "name": "stdout",
     "output_type": "stream",
     "text": [
      "18\n"
     ]
    }
   ],
   "source": [
    "print(my_tree.min_value_node(my_tree.root.left).value)\n",
    "# expected 18"
   ]
  },
  {
   "cell_type": "code",
   "execution_count": 102,
   "id": "d6cca11a",
   "metadata": {},
   "outputs": [
    {
     "name": "stdout",
     "output_type": "stream",
     "text": [
      "52\n"
     ]
    }
   ],
   "source": [
    "print(my_tree.min_value_node(my_tree.root.right).value)\n",
    "# expected 52"
   ]
  },
  {
   "cell_type": "code",
   "execution_count": null,
   "id": "176699a9",
   "metadata": {},
   "outputs": [],
   "source": []
  },
  {
   "cell_type": "code",
   "execution_count": null,
   "id": "d7da394a",
   "metadata": {},
   "outputs": [],
   "source": []
  },
  {
   "cell_type": "markdown",
   "id": "971c5642",
   "metadata": {},
   "source": [
    "## BST Traversal Algos"
   ]
  },
  {
   "cell_type": "markdown",
   "id": "9c964195",
   "metadata": {},
   "source": [
    "### 4.a.1 Traversal Algos\n",
    "There are 4 traversal algos, considering the tree below:\n",
    "\n",
    "1. **In-Order**: (left, root, right)     :   4, 2, 5, 1, 5\n",
    "2. **Pre-Order**: (root, left, right)    :   1, 2, 4, 5, 3\n",
    "3. **Post-Order**: (left, right, root)   :   4, 5, 2, 3, 1\n",
    "4. **Breadth-First** (level-order)       :   1, 2, 3, 4, 5\n",
    "\n"
   ]
  },
  {
   "cell_type": "markdown",
   "id": "598fdffd",
   "metadata": {},
   "source": [
    "![image](binary-tree.gif)"
   ]
  },
  {
   "cell_type": "markdown",
   "id": "06c05fcd",
   "metadata": {},
   "source": [
    "#### 4.a.2 inOrder() Traversal"
   ]
  },
  {
   "cell_type": "code",
   "execution_count": 144,
   "id": "3eb9631a",
   "metadata": {},
   "outputs": [],
   "source": [
    "class BinarySearchTree:           # initializing the BST class\n",
    "    def __init__(self):           # creates Node-unique methods of value & next\n",
    "        self.root = None          #\n",
    "        \n",
    "    def insert(self, value):\n",
    "        new_node = Node(value)\n",
    "        if self.root is None:\n",
    "            self.root = new_node\n",
    "            return True\n",
    "        pointer = self.root\n",
    "        while (True):             # will keep running; escape using return\n",
    "            if new_node.value == pointer.value:\n",
    "                return False      # BST only has unique values, no duplicates\n",
    "\n",
    "            if new_node.value < pointer.value:\n",
    "                if pointer.left is None:\n",
    "                    pointer.left = new_node\n",
    "                    return True   # new_node inserted into empty, break loop\n",
    "                pointer = pointer.left\n",
    "            else:\n",
    "                if pointer.right is None:\n",
    "                    pointer.right = new_node\n",
    "                    return True \n",
    "                pointer = pointer.right\n",
    "            \n",
    "    def contains(self, value):\n",
    "       #if self.root is None:             # actually, not necessary;\n",
    "       #    return False                  # solved for while pointer is not None\n",
    "        pointer = self.root\n",
    "        while pointer is not None:\n",
    "            if pointer.value == value:\n",
    "                return True\n",
    "            elif value > pointer.value:\n",
    "                pointer = pointer.right\n",
    "            else:\n",
    "                pointer = pointer.left\n",
    "        return False\n",
    "    \n",
    "    def min_value_node(self, current_node):\n",
    "        while current_node.left is not None:\n",
    "            current_node = current_node.left\n",
    "        return current_node       \n",
    "    \n",
    "    def InOrder(self,root):\n",
    "        traversal_list = []\n",
    "        if root is not None:\n",
    "            traversal_list = self.InOrder(root.left)\n",
    "            traversal_list.append(root.value)\n",
    "            traversal_list = traversal_list + self.InOrder(root.right)\n",
    "        return traversal_list\n",
    "    \n",
    "    def InOrder(self,root):\n",
    "        traversal_list = []\n",
    "        if root is not None:\n",
    "            traversal_list = self.InOrder(root.left)\n",
    "            traversal_list.append(root.value)\n",
    "            traversal_list = traversal_list + self.InOrder(root.right)\n",
    "        return traversal_list\n",
    "        \n",
    "    def PreOrder(self,root):\n",
    "        traversal_list = []\n",
    "        if root is not None:\n",
    "            traversal_list.append(root.value)\n",
    "            traversal_list += self.PreOrder(root.left)\n",
    "            traversal_list += self.PreOrder(root.right)\n",
    "        return traversal_list\n",
    "    \n",
    "    def PostOrder(self,root):\n",
    "        traversal_list = []\n",
    "        if root is not None:\n",
    "            traversal_list = self.PostOrder(root.left)\n",
    "            traversal_list = traversal_list + self.PostOrder(root.right)\n",
    "            traversal_list.append(root.value)\n",
    "        return traversal_list\n",
    "    \n",
    "    def BreadthFirst(self,root):\n",
    "        if root is None:\n",
    "            return None\n",
    "        input_list = []\n",
    "        output_list = []\n",
    "        input_list.append(root)\n",
    "        while len(input_list) > 0:\n",
    "            node = input_list.pop(0)\n",
    "            output_list.append(node.value)\n",
    "            \n",
    "            if node.left is not None:\n",
    "                input_list.append(node.left)\n",
    "            if node.right is not None:\n",
    "                input_list.append(node.right)\n",
    "        return output_list\n",
    "            \n",
    "            \n",
    "        \n",
    "\n"
   ]
  },
  {
   "cell_type": "code",
   "execution_count": 145,
   "id": "bb21d02f",
   "metadata": {},
   "outputs": [],
   "source": [
    "short_tree = BinarySearchTree()\n",
    "short_tree.root = Node(1)\n",
    "short_tree.root.left, short_tree.root.right = Node(2), Node(3)\n",
    "short_tree.root.left.left, short_tree.root.left.right = Node(4), Node(5)"
   ]
  },
  {
   "cell_type": "code",
   "execution_count": 146,
   "id": "cda2763d",
   "metadata": {},
   "outputs": [
    {
     "name": "stdout",
     "output_type": "stream",
     "text": [
      "[4, 2, 5, 1, 3]\n",
      "[1, 2, 4, 5, 3]\n",
      "[4, 5, 2, 3, 1]\n",
      "[1, 2, 3, 4, 5]\n"
     ]
    }
   ],
   "source": [
    "print(short_tree.InOrder(short_tree.root))\n",
    "print(short_tree.PreOrder(short_tree.root))\n",
    "print(short_tree.PostOrder(short_tree.root))\n",
    "print(short_tree.BreadthFirst(short_tree.root))"
   ]
  },
  {
   "cell_type": "markdown",
   "id": "6aee5e02",
   "metadata": {},
   "source": [
    "## BST Problems"
   ]
  },
  {
   "cell_type": "markdown",
   "id": "cb86afd8",
   "metadata": {},
   "source": [
    "### 4.b Convert Binary Tree to Binary Search Trees\n",
    "- Binary Search Tree: For every given node, value of nodes in left subtree is smaller, value of nodes in right subtree is larger \n",
    "- Binary Tree has no such property, simply same structure\n",
    "\n",
    "- The question is: How to convert Binary Tree into BST while retaining structure\n",
    "\n",
    "\n",
    "**Solution Steps:**\n",
    "1. Perform InOrder traversal of Binary Tree (to generate array)\n",
    "2. Sort in-order traversal array\n",
    "3. Traverse binary tree in in-order fashion and replace values with in-order array\n",
    "\n",
    "**Sample Problem:**\n",
    "- 0\n",
    "- (1, 2)\n",
    "- ((3, 4), (5, ))\n",
    "- (( , 6), (,) , (,7) (,))\n",
    "- (    (,8)"
   ]
  },
  {
   "cell_type": "code",
   "execution_count": 161,
   "id": "858246a5",
   "metadata": {},
   "outputs": [],
   "source": [
    "def OutputInOrder(root, output_array):\n",
    "    if root is None:\n",
    "        return \n",
    "    OutputInOrder(root.left, output_array)\n",
    "    output_array.append(root.value)\n",
    "    OutputInOrder(root.right, output_array)\n",
    "\n",
    "def CountNodes(root):\n",
    "    if root is None:\n",
    "        return 0\n",
    "    return CountNodes(root.left) + CountNodes(root.right) + 1"
   ]
  },
  {
   "cell_type": "code",
   "execution_count": 162,
   "id": "e1f27566",
   "metadata": {},
   "outputs": [],
   "source": [
    "def ArrayToBST(array, root):\n",
    "    if root is None:\n",
    "        return\n",
    "    ArrayToBST(array, root.left)\n",
    "    root.value = array[0]\n",
    "    array.pop(0)\n",
    "    ArrayToBST(array, root.right)\n",
    "\n",
    "def BT_to_BST(root):\n",
    "    if root is None:\n",
    "        return\n",
    "    n = CountNodes(root)\n",
    "    array = [] # create temp array to store inorder traversal\n",
    "    OutputInOrder(root, array)\n",
    "    array.sort() # sort array\n",
    "    ArrayToBST(array, root)"
   ]
  },
  {
   "cell_type": "code",
   "execution_count": 163,
   "id": "bdf681ab",
   "metadata": {},
   "outputs": [
    {
     "name": "stdout",
     "output_type": "stream",
     "text": [
      "[20, 30, 10, 15, 5]\n"
     ]
    }
   ],
   "source": [
    "testcase = BinarySearchTree()\n",
    "testcase.root = Node(10)\n",
    "testcase.root.left = Node(30)\n",
    "testcase.root.right = Node(15)\n",
    "testcase.root.left.left = Node(20)\n",
    "testcase.root.right.right = Node(5)\n",
    " \n",
    "#      testcase:\n",
    "#           10\n",
    "#          /  \\\n",
    "#         30   15\n",
    "#        /      \\\n",
    "#       20       5\n",
    "    \n",
    "print(testcase.InOrder(testcase.root))"
   ]
  },
  {
   "cell_type": "code",
   "execution_count": 164,
   "id": "07f97b30",
   "metadata": {},
   "outputs": [],
   "source": [
    "# testcase Output:\n",
    "#           15\n",
    "#          /  \\\n",
    "#        10    20\n",
    "#        /      \\\n",
    "#       5        30"
   ]
  },
  {
   "cell_type": "code",
   "execution_count": 165,
   "id": "b84bf9f7",
   "metadata": {},
   "outputs": [
    {
     "name": "stdout",
     "output_type": "stream",
     "text": [
      "[5, 10, 15, 20, 30]\n"
     ]
    }
   ],
   "source": [
    "BT_to_BST(testcase.root)\n",
    "print(testcase.InOrder(testcase.root))"
   ]
  },
  {
   "cell_type": "code",
   "execution_count": null,
   "id": "7219e63c",
   "metadata": {},
   "outputs": [],
   "source": [
    "print(short_tree.InOrder(short_tree.root))"
   ]
  },
  {
   "cell_type": "code",
   "execution_count": 166,
   "id": "c0b1c0ce",
   "metadata": {},
   "outputs": [
    {
     "name": "stdout",
     "output_type": "stream",
     "text": [
      "[8, 2, 4, 10, 7]\n"
     ]
    }
   ],
   "source": [
    "testcase2 = BinarySearchTree()\n",
    "testcase2.root = Node(10)\n",
    "testcase2.root.left = Node(2)\n",
    "testcase2.root.right = Node(7)\n",
    "testcase2.root.left.left = Node(8)\n",
    "testcase2.root.left.right = Node(4)\n",
    "\n",
    "# testcase2 Input:\n",
    "#           10\n",
    "#          /  \\\n",
    "#         2    7\n",
    "#        / \\\n",
    "#       8   4\n",
    "\n",
    "print(testcase2.InOrder(testcase2.root))"
   ]
  },
  {
   "cell_type": "code",
   "execution_count": 167,
   "id": "558acfaf",
   "metadata": {},
   "outputs": [
    {
     "name": "stdout",
     "output_type": "stream",
     "text": [
      "[2, 4, 7, 8, 10]\n"
     ]
    }
   ],
   "source": [
    "# testcase2 expected Output:\n",
    "#           8\n",
    "#          /  \\\n",
    "#         4    10\n",
    "#        / \\\n",
    "#       2   7\n",
    "\n",
    "\n",
    "BT_to_BST(testcase2.root)\n",
    "print(testcase2.InOrder(testcase2.root))"
   ]
  },
  {
   "cell_type": "code",
   "execution_count": null,
   "id": "5c22e30c",
   "metadata": {},
   "outputs": [],
   "source": []
  },
  {
   "cell_type": "code",
   "execution_count": null,
   "id": "57ff7b20",
   "metadata": {},
   "outputs": [],
   "source": []
  }
 ],
 "metadata": {
  "kernelspec": {
   "display_name": "Python 3 (ipykernel)",
   "language": "python",
   "name": "python3"
  },
  "language_info": {
   "codemirror_mode": {
    "name": "ipython",
    "version": 3
   },
   "file_extension": ".py",
   "mimetype": "text/x-python",
   "name": "python",
   "nbconvert_exporter": "python",
   "pygments_lexer": "ipython3",
   "version": "3.7.11"
  }
 },
 "nbformat": 4,
 "nbformat_minor": 5
}
