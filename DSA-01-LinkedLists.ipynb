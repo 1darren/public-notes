{
 "cells": [
  {
   "cell_type": "markdown",
   "id": "d02022cc",
   "metadata": {},
   "source": [
    "Notes for Linked Lists"
   ]
  },
  {
   "cell_type": "code",
   "execution_count": 2,
   "id": "017c0a65",
   "metadata": {},
   "outputs": [],
   "source": [
    "# Creating Node Class\n",
    "class Node:                            # initializing the node class\n",
    "    def __init__(self, value):          # creates Node-unique methods of value & next\n",
    "        self.value = value\n",
    "        self.next = None\n"
   ]
  },
  {
   "cell_type": "code",
   "execution_count": 6,
   "id": "8c7ecee9",
   "metadata": {},
   "outputs": [],
   "source": [
    "# 1.0 LinkedList Constructor\n",
    "\n",
    "class LinkedList:                      # initializing the LL class, defining its attributes\n",
    "    def __init__(self, value): \n",
    "        new_node = Node(value)           # calls the Node class, passing 'value' to the value of class\n",
    "        self.head = new_node\n",
    "        self.tail = new_node\n",
    "        self.length = 1\n",
    "      "
   ]
  },
  {
   "cell_type": "code",
   "execution_count": 7,
   "id": "654c83a2",
   "metadata": {},
   "outputs": [
    {
     "name": "stdout",
     "output_type": "stream",
     "text": [
      "4\n"
     ]
    }
   ],
   "source": [
    "my_linked_list = LinkedList(4)\n",
    "print(my_linked_list.head.value) #output expected 4"
   ]
  },
  {
   "cell_type": "code",
   "execution_count": 8,
   "id": "2c00970a",
   "metadata": {
    "scrolled": true
   },
   "outputs": [
    {
     "name": "stdout",
     "output_type": "stream",
     "text": [
      "None\n"
     ]
    }
   ],
   "source": [
    "print(my_linked_list.tail.next) #output expected None"
   ]
  },
  {
   "cell_type": "code",
   "execution_count": 9,
   "id": "5a7f1a5f",
   "metadata": {},
   "outputs": [],
   "source": [
    "# 1.0a creating function to print linked lists\n",
    "\n",
    "class LinkedList:                      # initializing the LL class, defining its attributes\n",
    "    def __init__(self, value): \n",
    "        new_node = Node(value)           # calls the Node class, passing 'value' to the value of class\n",
    "        self.head = new_node\n",
    "        self.tail = new_node\n",
    "        self.length = 1\n",
    "\n",
    "    def print_list(self): \n",
    "        temp = self.head\n",
    "        while temp is not None:\n",
    "            print(temp.value)\n",
    "            temp = temp.next"
   ]
  },
  {
   "cell_type": "code",
   "execution_count": 10,
   "id": "fca11452",
   "metadata": {
    "scrolled": true
   },
   "outputs": [
    {
     "name": "stdout",
     "output_type": "stream",
     "text": [
      "4\n"
     ]
    }
   ],
   "source": [
    "my_linked_list = LinkedList(4)\n",
    "\n",
    "my_linked_list.print_list()"
   ]
  },
  {
   "cell_type": "code",
   "execution_count": 12,
   "id": "cea08f05",
   "metadata": {},
   "outputs": [],
   "source": [
    "# 1.1 LinkedList with append\n",
    "\n",
    "class LinkedList:                      # initializing the LL class, defining its attributes\n",
    "    def __init__(self, value): \n",
    "        new_node = Node(value)           # calls the Node class, passing 'value' to the value of class\n",
    "        self.head = new_node\n",
    "        self.tail = new_node\n",
    "        self.length = 1\n",
    "\n",
    "    def print_list(self): \n",
    "        temp = self.head\n",
    "        while temp is not None:\n",
    "            print(temp.value)\n",
    "            temp = temp.next\n",
    "\n",
    "    def append(self, value):           # defining methods that work with new class\n",
    "        new_node = Node(value)\n",
    "        if self.head is None: \n",
    "            self.head = new_node\n",
    "            self.tail = new_node\n",
    "        else:\n",
    "            self.tail.next = new_node\n",
    "            self.tail = new_node\n",
    "        self.length += 1\n",
    "        return True                      # Optional \n",
    "      "
   ]
  },
  {
   "cell_type": "code",
   "execution_count": 13,
   "id": "ac843b4c",
   "metadata": {},
   "outputs": [
    {
     "name": "stdout",
     "output_type": "stream",
     "text": [
      "4\n",
      "7\n",
      "2\n",
      "9\n",
      "faith\n"
     ]
    }
   ],
   "source": [
    "my_linked_list = LinkedList(4)\n",
    "my_linked_list.append(7)\n",
    "my_linked_list.append(2)\n",
    "my_linked_list.append(9)\n",
    "my_linked_list.append(\"faith\")\n",
    "my_linked_list.print_list()"
   ]
  },
  {
   "cell_type": "code",
   "execution_count": 20,
   "id": "aff09b0d",
   "metadata": {},
   "outputs": [],
   "source": [
    "# 1.1 LinkedList with append\n",
    "\n",
    "class LinkedList:                      # initializing the LL class, defining its attributes\n",
    "    def __init__(self, value): \n",
    "        new_node = Node(value)           # calls the Node class, passing 'value' to the value of class\n",
    "        self.head = new_node\n",
    "        self.tail = new_node\n",
    "        self.length = 1\n",
    "\n",
    "    def print_list(self): \n",
    "        temp = self.head\n",
    "        while temp is not None:\n",
    "            print(temp.value)\n",
    "            temp = temp.next\n",
    "\n",
    "    def append(self, value):           # defining methods that work with new class\n",
    "        new_node = Node(value)\n",
    "        if self.head is None: \n",
    "            self.head = new_node\n",
    "            self.tail = new_node\n",
    "        else:\n",
    "            self.tail.next = new_node\n",
    "            self.tail = new_node\n",
    "        self.length += 1\n",
    "        return True                      # Optional \n",
    "\n",
    "    def pop(self):           # defining methods that work with new class\n",
    "        if self.length == 0:\n",
    "            return None\n",
    "        else:\n",
    "            temp = self.head\n",
    "            pre = self.head\n",
    "            while (temp.next):         # this statement runs while temp.next is not None\n",
    "                pre = temp\n",
    "                temp = temp.next\n",
    "            self.tail = pre\n",
    "            self.tail.next = None\n",
    "            self.length -= 1\n",
    "            if self.length == 0:\n",
    "                self.head = None\n",
    "                self.tail = None\n",
    "            return temp"
   ]
  },
  {
   "cell_type": "code",
   "execution_count": 30,
   "id": "abaacfcf",
   "metadata": {},
   "outputs": [
    {
     "name": "stdout",
     "output_type": "stream",
     "text": [
      "4\n",
      "faith\n",
      "9\n"
     ]
    }
   ],
   "source": [
    "my_linked_list = LinkedList(4)\n",
    "my_linked_list.append(\"faith\")\n",
    "my_linked_list.append(9)\n",
    "\n",
    "my_linked_list.print_list()"
   ]
  },
  {
   "cell_type": "code",
   "execution_count": 31,
   "id": "d2481d51",
   "metadata": {},
   "outputs": [
    {
     "name": "stdout",
     "output_type": "stream",
     "text": [
      "<__main__.Node object at 0x0000014BDE307408>\n",
      "4\n",
      "faith\n",
      "-----\n",
      "<__main__.Node object at 0x0000014BDE307648>\n",
      "4\n",
      "-----\n",
      "<__main__.Node object at 0x0000014BDE30CFC8>\n",
      "-----\n"
     ]
    }
   ],
   "source": [
    "print(my_linked_list.pop())\n",
    "my_linked_list.print_list()\n",
    "print(\"-----\")\n",
    "\n",
    "print(my_linked_list.pop())\n",
    "my_linked_list.print_list()\n",
    "print(\"-----\")\n",
    "\n",
    "print(my_linked_list.pop())\n",
    "my_linked_list.print_list()\n",
    "print(\"-----\")"
   ]
  },
  {
   "cell_type": "code",
   "execution_count": 40,
   "id": "8d256463",
   "metadata": {},
   "outputs": [],
   "source": [
    "# 1.1 LinkedList with append\n",
    "\n",
    "class LinkedList:                      # initializing the LL class, defining its attributes\n",
    "    def __init__(self, value): \n",
    "        new_node = Node(value)           # calls the Node class, passing 'value' to the value of class\n",
    "        self.head = new_node\n",
    "        self.tail = new_node\n",
    "        self.length = 1\n",
    "\n",
    "    def print_list(self): \n",
    "        temp = self.head\n",
    "        while temp is not None:\n",
    "            print(temp.value)\n",
    "            temp = temp.next\n",
    "\n",
    "    def append(self, value):           # defining methods that work with new class\n",
    "        new_node = Node(value)\n",
    "        if self.head is None: \n",
    "            self.head = new_node\n",
    "            self.tail = new_node\n",
    "        else:\n",
    "            self.tail.next = new_node\n",
    "            self.tail = new_node\n",
    "        self.length += 1\n",
    "        return True                      # Optional \n",
    "\n",
    "    def pop(self):           # defining methods that work with new class\n",
    "        if self.length == 0:\n",
    "            return None\n",
    "        else:\n",
    "            temp = self.head\n",
    "            pre = self.head\n",
    "            while (temp.next):         # this statement runs while temp.next is not None\n",
    "                pre = temp\n",
    "                temp = temp.next\n",
    "            self.tail = pre\n",
    "            self.tail.next = None\n",
    "            self.length -= 1\n",
    "            if self.length == 0:\n",
    "                self.head = None\n",
    "                self.tail = None\n",
    "            return temp\n",
    "        \n",
    "    def prepend(self, value):           # defining methods that work with new class\n",
    "        new_node = Node(value)\n",
    "        if self.head is None:\n",
    "            self.head = new_node\n",
    "            self.tail = new_node\n",
    "        else:\n",
    "            new_node.next = self.head\n",
    "            self.head = new_node\n",
    "        self.length += 1\n",
    "        return True"
   ]
  },
  {
   "cell_type": "code",
   "execution_count": 41,
   "id": "5b34aaa0",
   "metadata": {},
   "outputs": [
    {
     "name": "stdout",
     "output_type": "stream",
     "text": [
      "4\n",
      "faith\n",
      "9\n"
     ]
    }
   ],
   "source": [
    "my_linked_list = LinkedList(4)\n",
    "my_linked_list.append(\"faith\")\n",
    "my_linked_list.append(9)\n",
    "\n",
    "my_linked_list.print_list()"
   ]
  },
  {
   "cell_type": "code",
   "execution_count": 42,
   "id": "beab8947",
   "metadata": {},
   "outputs": [
    {
     "name": "stdout",
     "output_type": "stream",
     "text": [
      "First\n",
      "4\n",
      "faith\n",
      "9\n"
     ]
    }
   ],
   "source": [
    "my_linked_list.prepend(\"First\")\n",
    "\n",
    "my_linked_list.print_list()"
   ]
  },
  {
   "cell_type": "code",
   "execution_count": 46,
   "id": "134cc6ff",
   "metadata": {},
   "outputs": [
    {
     "name": "stdout",
     "output_type": "stream",
     "text": [
      "---\n",
      "First\n"
     ]
    }
   ],
   "source": [
    "my_linked_list = LinkedList(4)\n",
    "my_linked_list.pop()\n",
    "my_linked_list.print_list()\n",
    "\n",
    "print(\"---\")\n",
    "\n",
    "my_linked_list.prepend(\"First\")\n",
    "\n",
    "my_linked_list.print_list()"
   ]
  },
  {
   "cell_type": "code",
   "execution_count": 47,
   "id": "3421b445",
   "metadata": {},
   "outputs": [],
   "source": [
    "# 1.1 LinkedList with append\n",
    "\n",
    "class LinkedList:                      # initializing the LL class, defining its attributes\n",
    "    def __init__(self, value): \n",
    "        new_node = Node(value)           # calls the Node class, passing 'value' to the value of class\n",
    "        self.head = new_node\n",
    "        self.tail = new_node\n",
    "        self.length = 1\n",
    "\n",
    "    def print_list(self): \n",
    "        temp = self.head\n",
    "        while temp is not None:\n",
    "            print(temp.value)\n",
    "            temp = temp.next\n",
    "\n",
    "    def append(self, value):           # defining methods that work with new class\n",
    "        new_node = Node(value)\n",
    "        if self.head is None: \n",
    "            self.head = new_node\n",
    "            self.tail = new_node\n",
    "        else:\n",
    "            self.tail.next = new_node\n",
    "            self.tail = new_node\n",
    "        self.length += 1\n",
    "        return True                      # Optional \n",
    "\n",
    "    def pop(self):           # defining methods that work with new class\n",
    "        if self.length == 0:\n",
    "            return None\n",
    "        else:\n",
    "            temp = self.head\n",
    "            pre = self.head\n",
    "            while (temp.next):         # this statement runs while temp.next is not None\n",
    "                pre = temp\n",
    "                temp = temp.next\n",
    "            self.tail = pre\n",
    "            self.tail.next = None\n",
    "            self.length -= 1\n",
    "            if self.length == 0:\n",
    "                self.head = None\n",
    "                self.tail = None\n",
    "            return temp\n",
    "        \n",
    "    def prepend(self, value):           # defining methods that work with new class\n",
    "        new_node = Node(value)\n",
    "        if self.head is None:\n",
    "            self.head = new_node\n",
    "            self.tail = new_node\n",
    "        else:\n",
    "            new_node.next = self.head\n",
    "            self.head = new_node\n",
    "        self.length += 1\n",
    "        return True\n",
    "    \n",
    "    def pop_first(self):           # defining methods that work with new class\n",
    "        if self.length == 0:\n",
    "            return None\n",
    "        temp = self.head\n",
    "        self.head = self.head.next\n",
    "        temp.next = None\n",
    "        self.length -= 1\n",
    "        if self.length == 0:\n",
    "            self.tail = None\n",
    "        return temp\n"
   ]
  },
  {
   "cell_type": "code",
   "execution_count": 48,
   "id": "cc2c22ff",
   "metadata": {},
   "outputs": [
    {
     "name": "stdout",
     "output_type": "stream",
     "text": [
      "4\n",
      "faith\n",
      "9\n"
     ]
    }
   ],
   "source": [
    "my_linked_list = LinkedList(4)\n",
    "\n",
    "my_linked_list.append(\"faith\")\n",
    "my_linked_list.append(9)\n",
    "\n",
    "my_linked_list.print_list()"
   ]
  },
  {
   "cell_type": "code",
   "execution_count": 58,
   "id": "b4bcd648",
   "metadata": {},
   "outputs": [
    {
     "name": "stdout",
     "output_type": "stream",
     "text": [
      "4\n",
      "faith\n",
      "9\n"
     ]
    }
   ],
   "source": [
    "my_linked_list = LinkedList(4)\n",
    "my_linked_list.append(\"faith\")\n",
    "my_linked_list.append(9)\n",
    "my_linked_list.print_list()"
   ]
  },
  {
   "cell_type": "code",
   "execution_count": 138,
   "id": "12df3d0b",
   "metadata": {},
   "outputs": [],
   "source": [
    "# 1.1 LinkedList with append\n",
    "\n",
    "class LinkedList:                      # initializing the LL class, defining its attributes\n",
    "    def __init__(self, value): \n",
    "        new_node = Node(value)           # calls the Node class, passing 'value' to the value of class\n",
    "        self.head = new_node\n",
    "        self.tail = new_node\n",
    "        self.length = 1\n",
    "\n",
    "    def print_list(self): \n",
    "        temp = self.head\n",
    "        while temp is not None:\n",
    "            print(temp.value)\n",
    "            temp = temp.next\n",
    "\n",
    "    def append(self, value):           # defining methods that work with new class\n",
    "        new_node = Node(value)\n",
    "        if self.head is None: \n",
    "            self.head = new_node\n",
    "            self.tail = new_node\n",
    "        else:\n",
    "            self.tail.next = new_node\n",
    "            self.tail = new_node\n",
    "        self.length += 1\n",
    "        return True                      # Optional \n",
    "\n",
    "    def pop(self):           # defining methods that work with new class\n",
    "        if self.length == 0:\n",
    "            return None\n",
    "        else:\n",
    "            temp = self.head\n",
    "            pre = self.head\n",
    "            while (temp.next):         # this statement runs while temp.next is not None\n",
    "                pre = temp\n",
    "                temp = temp.next\n",
    "            self.tail = pre\n",
    "            self.tail.next = None\n",
    "            self.length -= 1\n",
    "            if self.length == 0:\n",
    "                self.head = None\n",
    "                self.tail = None\n",
    "            return temp\n",
    "        \n",
    "    def prepend(self, value):           # defining methods that work with new class\n",
    "        new_node = Node(value)\n",
    "        if self.head is None:\n",
    "            self.head = new_node\n",
    "            self.tail = new_node\n",
    "        else:\n",
    "            new_node.next = self.head\n",
    "            self.head = new_node\n",
    "        self.length += 1\n",
    "        return True\n",
    "    \n",
    "    def pop_first(self):           # defining methods that work with new class\n",
    "        if self.length == 0:\n",
    "            return None\n",
    "        temp = self.head\n",
    "        self.head = self.head.next\n",
    "        temp.next = None\n",
    "        self.length -= 1\n",
    "        if self.length == 0:\n",
    "            self.tail = None\n",
    "        return temp\n",
    "\n",
    "    def get(self, index):           # defining methods that work with new class\n",
    "        if index >= self.length or index < 0:\n",
    "            return False\n",
    "        pointer = self.head\n",
    "        for _ in range(index):\n",
    "            pointer = pointer.next\n",
    "        return pointer\n",
    "    \n",
    "    def set_value(self, index, value):           # defining methods that work with new class\n",
    "        temp = self.get(index)\n",
    "        if temp:\n",
    "            temp.value = value\n",
    "            return True\n",
    "        return False\n",
    "    \n",
    "    def insert(self, index, value):           # defining methods that work with new class\n",
    "        if index >= self.length or index < 0:\n",
    "            return False\n",
    "        if index == 0:\n",
    "            return self.prepend(value)\n",
    "        if index == self.length:\n",
    "            return self.append(value)\n",
    "        new_node = Node(value)\n",
    "        temp = self.get(index - 1)\n",
    "        new_node.next = temp.next\n",
    "        temp.next = new_node\n",
    "        self.length += 1\n",
    "        return True\n",
    "\n",
    "     \n",
    "    def remove(self, index):           # defining methods that work with new class\n",
    "        if index >= self.length or index < 0:\n",
    "            return None\n",
    "        if index == 0:\n",
    "            return self.pop_first()\n",
    "        if index == self.length - 1:\n",
    "            return self.pop()\n",
    "        pointer = self.get(index - 1)\n",
    "        temp = pointer.next \n",
    "        pointer.next = temp.next\n",
    "        temp.next = None\n",
    "        self.length -= 1\n",
    "        return temp\n",
    "        "
   ]
  },
  {
   "cell_type": "code",
   "execution_count": 144,
   "id": "cf4c132f",
   "metadata": {},
   "outputs": [
    {
     "name": "stdout",
     "output_type": "stream",
     "text": [
      "4\n",
      "faith\n",
      "9\n",
      "third_index\n",
      "999\n"
     ]
    }
   ],
   "source": [
    "my_linked_list = LinkedList(4)\n",
    "my_linked_list.append(\"faith\")\n",
    "my_linked_list.append(9)\n",
    "my_linked_list.append(\"third_index\")\n",
    "my_linked_list.append(999)\n",
    "my_linked_list.print_list()"
   ]
  },
  {
   "cell_type": "code",
   "execution_count": 145,
   "id": "b3ec5d7b",
   "metadata": {
    "scrolled": true
   },
   "outputs": [
    {
     "name": "stdout",
     "output_type": "stream",
     "text": [
      "4\n",
      "9\n",
      "third_index\n",
      "999\n"
     ]
    }
   ],
   "source": [
    "my_linked_list.remove(1)\n",
    "my_linked_list.print_list()"
   ]
  },
  {
   "cell_type": "code",
   "execution_count": 168,
   "id": "ec817a36",
   "metadata": {},
   "outputs": [],
   "source": [
    "# 1.1 LinkedList with append\n",
    "\n",
    "class LinkedList:                      # initializing the LL class, defining its attributes\n",
    "    def __init__(self, value): \n",
    "        new_node = Node(value)           # calls the Node class, passing 'value' to the value of class\n",
    "        self.head = new_node\n",
    "        self.tail = new_node\n",
    "        self.length = 1\n",
    "\n",
    "    def print_list(self): \n",
    "        temp = self.head\n",
    "        while temp is not None:\n",
    "            print(temp.value)\n",
    "            temp = temp.next\n",
    "\n",
    "    def append(self, value):           # defining methods that work with new class\n",
    "        new_node = Node(value)\n",
    "        if self.head is None: \n",
    "            self.head = new_node\n",
    "            self.tail = new_node\n",
    "        else:\n",
    "            self.tail.next = new_node\n",
    "            self.tail = new_node\n",
    "        self.length += 1\n",
    "        return True                      # Optional \n",
    "\n",
    "    def pop(self):           # defining methods that work with new class\n",
    "        if self.length == 0:\n",
    "            return None\n",
    "        else:\n",
    "            temp = self.head\n",
    "            pre = self.head\n",
    "            while (temp.next):         # this statement runs while temp.next is not None\n",
    "                pre = temp\n",
    "                temp = temp.next\n",
    "            self.tail = pre\n",
    "            self.tail.next = None\n",
    "            self.length -= 1\n",
    "            if self.length == 0:\n",
    "                self.head = None\n",
    "                self.tail = None\n",
    "            return temp\n",
    "        \n",
    "    def prepend(self, value):           # defining methods that work with new class\n",
    "        new_node = Node(value)\n",
    "        if self.head is None:\n",
    "            self.head = new_node\n",
    "            self.tail = new_node\n",
    "        else:\n",
    "            new_node.next = self.head\n",
    "            self.head = new_node\n",
    "        self.length += 1\n",
    "        return True\n",
    "    \n",
    "    def pop_first(self):           # defining methods that work with new class\n",
    "        if self.length == 0:\n",
    "            return None\n",
    "        temp = self.head\n",
    "        self.head = self.head.next\n",
    "        temp.next = None\n",
    "        self.length -= 1\n",
    "        if self.length == 0:\n",
    "            self.tail = None\n",
    "        return temp\n",
    "\n",
    "    def get(self, index):           # defining methods that work with new class\n",
    "        if index >= self.length or index < 0:\n",
    "            return False\n",
    "        pointer = self.head\n",
    "        for _ in range(index):\n",
    "            pointer = pointer.next\n",
    "        return pointer\n",
    "    \n",
    "    def set_value(self, index, value):           # defining methods that work with new class\n",
    "        temp = self.get(index)\n",
    "        if temp:\n",
    "            temp.value = value\n",
    "            return True\n",
    "        return False\n",
    "    \n",
    "    def insert(self, index, value):           # defining methods that work with new class\n",
    "        if index >= self.length or index < 0:\n",
    "            return False\n",
    "        if index == 0:\n",
    "            return self.prepend(value)\n",
    "        if index == self.length:\n",
    "            return self.append(value)\n",
    "        new_node = Node(value)\n",
    "        temp = self.get(index - 1)\n",
    "        new_node.next = temp.next\n",
    "        temp.next = new_node\n",
    "        self.length += 1\n",
    "        return True\n",
    "\n",
    "     \n",
    "    def remove(self, index):           # defining methods that work with new class\n",
    "        if index >= self.length or index < 0:\n",
    "            return None\n",
    "        if index == 0:\n",
    "            return self.pop_first()\n",
    "        if index == self.length - 1:\n",
    "            return self.pop()\n",
    "        pointer = self.get(index - 1)\n",
    "        temp = pointer.next \n",
    "        pointer.next = temp.next\n",
    "        temp.next = None\n",
    "        self.length -= 1\n",
    "        return temp\n",
    "        \n",
    "    def reverse(self):\n",
    "        pointer = self.head\n",
    "        self.head = self.tail\n",
    "        self.tail = pointer\n",
    "        before = None\n",
    "        after = pointer.next\n",
    "        self.tail = pointer\n",
    "        for _ in range(self.length):\n",
    "            after = pointer.next\n",
    "            pointer.next = before\n",
    "            before = pointer\n",
    "            pointer = after\n",
    "        return True"
   ]
  },
  {
   "cell_type": "code",
   "execution_count": 169,
   "id": "1d0b1b4f",
   "metadata": {
    "scrolled": true
   },
   "outputs": [
    {
     "name": "stdout",
     "output_type": "stream",
     "text": [
      "0\n",
      "first\n",
      "2\n",
      "third_index\n",
      "4\n"
     ]
    }
   ],
   "source": [
    "my_linked_list = LinkedList(0)\n",
    "my_linked_list.append(\"first\")\n",
    "my_linked_list.append(2)\n",
    "my_linked_list.append(\"third_index\")\n",
    "my_linked_list.append(4)\n",
    "my_linked_list.print_list()"
   ]
  },
  {
   "cell_type": "code",
   "execution_count": 170,
   "id": "3f216b35",
   "metadata": {},
   "outputs": [
    {
     "name": "stdout",
     "output_type": "stream",
     "text": [
      "4\n",
      "third_index\n",
      "2\n",
      "first\n",
      "0\n"
     ]
    }
   ],
   "source": [
    "my_linked_list.reverse()\n",
    "my_linked_list.print_list()"
   ]
  }
 ],
 "metadata": {
  "kernelspec": {
   "display_name": "Python 3 (ipykernel)",
   "language": "python",
   "name": "python3"
  },
  "language_info": {
   "codemirror_mode": {
    "name": "ipython",
    "version": 3
   },
   "file_extension": ".py",
   "mimetype": "text/x-python",
   "name": "python",
   "nbconvert_exporter": "python",
   "pygments_lexer": "ipython3",
   "version": "3.7.11"
  }
 },
 "nbformat": 4,
 "nbformat_minor": 5
}
